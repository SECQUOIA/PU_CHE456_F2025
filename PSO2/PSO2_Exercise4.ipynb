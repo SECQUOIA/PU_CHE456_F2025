{
 "cells": [
  {
   "cell_type": "markdown",
   "id": "3a25bc28",
   "metadata": {},
   "source": [
    "<a name=\"top\" id=\"top\"></a>\n",
    "\n",
    "<div align=\"center\">\n",
    "\n",
    "<h1>PSO 2: Response of First and Second order systems to sinusoidal inputs\n",
    "\n",
    "</h1>\n",
    "\n",
    "<p>\n",
    "  <a href=\"https://github.com/bernalde\"><strong>David E. Bernal Neira</strong></a><br>\n",
    "  <em>Davidson School of Chemical Engineering, Purdue University</em><br>\n",
    "  <em>Universities Space Research Association</em><br>\n",
    "  <em>NASA QuAIL</em>\n",
    "</p>\n",
    "\n",
    "<br>\n",
    "\n",
    "<p>\n",
    "  <a href=\"https://github.com/mhuertasm\"><strong>Mateo Huertas Marulanda</strong></a><br>\n",
    "  <em>Chemical Engineering, National University of Colombia</em><br>\n",
    "  <em>Undergraduate Visiting Scholar</em>\n",
    "</p>\n",
    "\n",
    "<br>\n",
    "\n",
    "<p>\n",
    "  <a href=\"https://colab.research.google.com\" target=\"_parent\">\n",
    "    <img src=\"https://colab.research.google.com/assets/colab-badge.svg\" alt=\"Open In Colab\">\n",
    "  </a>\n",
    "  <a href=\"https://secquoia.github.io/\">\n",
    "    <img src=\"https://img.shields.io/badge/🌲⚛️🌐-SECQUOIA-blue\" alt=\"SECQUOIA\">\n",
    "  </a>\n",
    "</p>\n",
    "\n",
    "</div>\n",
    "\n",
    "## 🎯 Objective\n",
    "Analyze the forced response of a first-order system when subjected to a sinusoidal input, and observe how the system attenuates and phase-shifts the signal depending on input frequency.\n",
    "\n",
    "## 💻 Code Purpose\n",
    "This script simulates how a first-order system with transfer function $H(s) =\\frac {1} {(s + 1)}$ responds to a sine wave input. It helps demonstrate frequency-domain behavior in the time domain.\n",
    "\n",
    "## 🔑 Key Functions\n",
    "- `control.forced_response()`: Computes the response of the system to an arbitrary input.\n",
    "- `numpy.sin()`: Generates the sine wave used as input.\n"
   ]
  },
  {
   "cell_type": "code",
   "execution_count": null,
   "id": "1bffcfab",
   "metadata": {},
   "outputs": [],
   "source": [
    "import numpy as np\n",
    "import control as ct\n",
    "import matplotlib.pyplot as plt\n"
   ]
  },
  {
   "cell_type": "markdown",
   "id": "81bb2768",
   "metadata": {},
   "source": [
    "\n",
    "# Define transfer function"
   ]
  },
  {
   "cell_type": "code",
   "execution_count": null,
   "id": "e68efe69",
   "metadata": {},
   "outputs": [],
   "source": [
    "\n",
    "num = [1]  # Numerator coefficients of the transfer function (G(s) = 1 / (s + 1))\n",
    "den = [1, 1]  # Denominator coefficients of the transfer function (first-order system)\n",
    "system = ct.TransferFunction(num, den)  # Define the transfer function system G(s) = 1 / (s + 1)\n"
   ]
  },
  {
   "cell_type": "markdown",
   "id": "d4e72b91",
   "metadata": {},
   "source": [
    "# Define the sine wave input and the time vector"
   ]
  },
  {
   "cell_type": "code",
   "execution_count": null,
   "id": "86cbd57d",
   "metadata": {},
   "outputs": [],
   "source": [
    "# Simulation parameters\n",
    "fs = 100      # Sampling frequency in Hz\n",
    "T = 2         # Total simulation time in seconds\n",
    "t = np.linspace(0, T, fs * T)  # Time vector \n",
    "# Define the input: a sine wave of 1.5 Hz\n",
    "f_input = 1.5  # Frequency of sine wave in Hz\n",
    "input_signal = np.sin(2 * np.pi * f_input * t)  # Unit amplitude sine wave"
   ]
  },
  {
   "cell_type": "markdown",
   "id": "11db1db7",
   "metadata": {},
   "source": [
    "\n",
    "\n",
    "# Compute the system's forced response to the sine wave"
   ]
  },
  {
   "cell_type": "code",
   "execution_count": null,
   "id": "cdeae93a",
   "metadata": {},
   "outputs": [],
   "source": [
    "response = ct.forced_response(system, T=t, U=input_signal)  #Compute the time response of the system to a custom input signal over time vector t\n"
   ]
  },
  {
   "cell_type": "markdown",
   "id": "032b5da6",
   "metadata": {},
   "source": [
    "# Plot the system response"
   ]
  },
  {
   "cell_type": "code",
   "execution_count": null,
   "id": "a584a0d3",
   "metadata": {},
   "outputs": [],
   "source": [
    "\n",
    "# Plot input and output\n",
    "plt.figure(figsize=(8, 5))\n",
    "\n",
    "# Plot the input sine wave\n",
    "plt.plot(t, input_signal, '--', label=\"Input Sine Wave (1.5 Hz)\", alpha=0.7, color='r')\n",
    "\n",
    "# Plot the system's output\n",
    "plt.plot(response.time, response.outputs, label=\"System Response\", linewidth=2, color=\"purple\")\n",
    "\n",
    "# Add labels and legend\n",
    "plt.xlabel(\"Time\")\n",
    "plt.ylabel(\"Amplitude\")\n",
    "plt.title(\"Forced Response of H(s) = 1/(s+1) to Sine Wave Input\")\n",
    "plt.legend()\n",
    "plt.grid(True)\n",
    "plt.show()"
   ]
  },
  {
   "cell_type": "markdown",
   "id": "66c647c0",
   "metadata": {},
   "source": [
    "---\n",
    "\n",
    "## Conclusions 📌📊🧠\n",
    "\n",
    "- The **input signal** is a 1.5 Hz sine wave, used to test the system's dynamic response.\n",
    "\n",
    "- The **system response** shows clear attenuation of the input amplitude, consistent with the expected behavior of a first-order system.\n",
    "\n",
    "- There is a visible **delay (phase shift)** between the input and the system’s response.\n",
    "\n",
    "- This behavior is typical of **first-order systems**, which respond more slowly to higher-frequency inputs.\n",
    "\n",
    "The analysis shows how systems filter signals depending on their frequency, **which is essential for predicting and designing control system responses**.\n",
    "\n",
    "\n",
    "---\n"
   ]
  },
  {
   "cell_type": "markdown",
   "id": "54e6a11c",
   "metadata": {},
   "source": [
    "###  Individual Exercise\n",
    "\n",
    "**Analyze the time response of the second-order system given below to a sinusoidal input signal.**\n",
    "\n",
    "Show that:\n",
    "- If the frequency of the input signal equals the natural frequency of the system, the system becomes **unstable**.\n",
    "- For frequencies **smaller or larger** than the natural frequency, the system is **stable**.\n",
    "- At frequencies **close to** the natural frequency, the system is still stable but exhibits **oscillations with amplified amplitude**.\n",
    "\n",
    "The transfer function of the system is:\n",
    "\n",
    "$\n",
    "G(s) = \\frac{1}{s^2 + 1}\n",
    "$"
   ]
  },
  {
   "cell_type": "code",
   "execution_count": null,
   "id": "12f36f16",
   "metadata": {},
   "outputs": [],
   "source": [
    "\n",
    "# Define undamped second-order system\n",
    "num_undamped = [1]  # Numerator coefficients\n",
    "den_undamped = [1, 0, 1]  # Denominator coefficients\n",
    "system = ct.tf(num_undamped, den_undamped)  # Transfer function H(s) = 1 / (s^2 + 1)\n",
    "\n",
    "# Extended time for clearer resonance observation\n",
    "t = np.linspace(0, 300, 5000)\n",
    "\n",
    "# Frequencies\n",
    "omega1, omega2, omega3 = 0.5, 1.0, 1.5\n",
    "\n",
    "# Input signals\n",
    "u1 = np.sin(omega1 * t)\n",
    "u2 = np.sin(omega2 * t)  # Resonance case\n",
    "u3 = np.sin(omega3 * t)\n",
    "\n",
    "# Responses\n",
    "_, y1 = ct.forced_response(system, T=t, U=u1)\n",
    "_, y2 = ct.forced_response(system, T=t, U=u2)\n",
    "_, y3 = ct.forced_response(system, T=t, U=u3)\n",
    "\n",
    "# Plotting\n",
    "fig, axs = plt.subplots(3, 1, figsize=(12, 10), sharex=True)\n",
    "\n",
    "axs[0].plot(t, y1, 'b', label='Output (ω = 0.5)')\n",
    "axs[0].set_title('Input Frequency: 0.5 rad/s (Stable)')\n",
    "axs[0].legend()\n",
    "axs[0].grid()\n",
    "\n",
    "axs[1].plot(t, y2, 'r', label='Output (ω = 1.0)')\n",
    "axs[1].set_title('Input Frequency: 1.0 rad/s (Resonance → Unbounded Growth)')\n",
    "axs[1].legend()\n",
    "axs[1].grid()\n",
    "\n",
    "axs[2].plot(t, y3, 'g', label='Output (ω = 1.5)')\n",
    "axs[2].set_title('Input Frequency: 1.5 rad/s (Stable)')\n",
    "axs[2].legend()\n",
    "axs[2].grid()\n",
    "\n",
    "plt.xlabel('Time [s]')\n",
    "plt.tight_layout()\n",
    "plt.show()\n"
   ]
  }
 ],
 "metadata": {
  "kernelspec": {
   "display_name": "base",
   "language": "python",
   "name": "python3"
  },
  "language_info": {
   "codemirror_mode": {
    "name": "ipython",
    "version": 3
   },
   "file_extension": ".py",
   "mimetype": "text/x-python",
   "name": "python",
   "nbconvert_exporter": "python",
   "pygments_lexer": "ipython3",
   "version": "3.12.7"
  }
 },
 "nbformat": 4,
 "nbformat_minor": 5
}
