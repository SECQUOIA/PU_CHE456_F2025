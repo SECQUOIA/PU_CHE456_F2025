{
 "cells": [
  {
   "cell_type": "markdown",
   "id": "d60ef950",
   "metadata": {},
   "source": [
    "<a name=\"top\" id=\"top\"></a>\n",
    "\n",
    "<div align=\"center\">\n",
    "\n",
    "<h1>PSO 2: Simulate time response of higher order transfer functions based on lower order transfer function modes\n",
    "\n",
    "</h1>\n",
    "\n",
    "<p>\n",
    "  <a href=\"https://github.com/bernalde\"><strong>David E. Bernal Neira</strong></a><br>\n",
    "  <em>Davidson School of Chemical Engineering, Purdue University</em><br>\n",
    "  <em>Universities Space Research Association</em><br>\n",
    "  <em>NASA QuAIL</em>\n",
    "</p>\n",
    "\n",
    "<br>\n",
    "\n",
    "<p>\n",
    "  <a href=\"https://github.com/mhuertasm\"><strong>Mateo Huertas Marulanda</strong></a><br>\n",
    "  <em>Chemical Engineering, National University of Colombia</em><br>\n",
    "  <em>Undergraduate Visiting Scholar</em>\n",
    "</p>\n",
    "\n",
    "<br>\n",
    "\n",
    "<p>\n",
    "  <a href=\"https://colab.research.google.com\" target=\"_parent\">\n",
    "    <img src=\"https://colab.research.google.com/assets/colab-badge.svg\" alt=\"Open In Colab\">\n",
    "  </a>\n",
    "  <a href=\"https://secquoia.github.io/\">\n",
    "    <img src=\"https://img.shields.io/badge/🌲⚛️🌐-SECQUOIA-blue\" alt=\"SECQUOIA\">\n",
    "  </a>\n",
    "</p>\n",
    "\n",
    "</div>\n",
    "\n",
    "## 🎯 Objective  \n",
    "The goal of this exercise is to demonstrate the equivalence of the step responses between a **factored transfer function** and its **expanded form**. We will use a simple multiplication of two first-order transfer functions to compare with a second-order transfer function. \n",
    "\n",
    "## 💻 Code Purpose  \n",
    "This code defines two different representations of the same system:\n",
    "1. A **second-order system**: $ H(s) = \\frac{1 } {(s² + 3s + 2)} $\n",
    "2. A **factored system**: The product of two first-order transfer functions: $ H_1(s) = \\frac{1}  {(s + 1)} $ and $ H_2(s) =\\frac{1}   {(s + 2)} $\n",
    "\n",
    "We will compute and compare the **step response** of both representations to show that they yield the same behavior.\n"
   ]
  },
  {
   "cell_type": "code",
   "execution_count": null,
   "id": "baedd2dc",
   "metadata": {},
   "outputs": [],
   "source": [
    "import numpy as np\n",
    "import control as ct\n",
    "import matplotlib.pyplot as plt\n"
   ]
  },
  {
   "cell_type": "markdown",
   "id": "67acc904",
   "metadata": {},
   "source": [
    "# Define the complex transfer function:\n"
   ]
  },
  {
   "cell_type": "code",
   "execution_count": null,
   "id": "57c0a789",
   "metadata": {},
   "outputs": [],
   "source": [
    "# H(s) = 1 / (s^2 + 3s + 2)\n",
    "# This represents a second-order system.\n",
    "num = [1]           # Numerator coefficients\n",
    "den = [1, 3, 2]     # Denominator coefficients (s^2 + 3s + 2)\n",
    "system = ct.TransferFunction(num, den)"
   ]
  },
  {
   "cell_type": "markdown",
   "id": "b8e6d32a",
   "metadata": {},
   "source": [
    "\n",
    "# Define two simple first-order transfer functions:"
   ]
  },
  {
   "cell_type": "code",
   "execution_count": null,
   "id": "b0f49cd6",
   "metadata": {},
   "outputs": [],
   "source": [
    "\n",
    "# H1(s) = 1 / (s + 1)\n",
    "num1 = [1]  \n",
    "den1 = [1, 1] \n",
    "sys1 = ct.TransferFunction(num1, den1)\n",
    "\n",
    "# H2(s) = 1 / (s + 2)\n",
    "num2 = [1]   \n",
    "den2 = [1, 2]\n",
    "sys2 = ct.TransferFunction(num2, den2)\n"
   ]
  },
  {
   "cell_type": "markdown",
   "id": "cf178769",
   "metadata": {},
   "source": [
    "\n",
    "\n",
    "# Create a series from both simple systems:"
   ]
  },
  {
   "cell_type": "code",
   "execution_count": null,
   "id": "a298a148",
   "metadata": {},
   "outputs": [],
   "source": [
    "\n",
    "# H_total(s) = H1(s) * H2(s) = 1 / [(s + 1)(s + 2)] = 1 / (s^2 + 3s + 2)\n",
    "# This should yield the same dynamics as the original complex system.\n",
    "systotal = sys1 * sys2"
   ]
  },
  {
   "cell_type": "markdown",
   "id": "77ea8fe3",
   "metadata": {},
   "source": [
    "\n",
    "\n",
    "# Define the time vector for simulation\n"
   ]
  },
  {
   "cell_type": "code",
   "execution_count": null,
   "id": "69213d43",
   "metadata": {},
   "outputs": [],
   "source": [
    "t = np.linspace(0, 10, 1000) # Define a time vector (from 0 to 10, with 1000 points)\n"
   ]
  },
  {
   "cell_type": "markdown",
   "id": "fc175127",
   "metadata": {},
   "source": [
    "\n",
    "# Compute the step response for both systems\n"
   ]
  },
  {
   "cell_type": "code",
   "execution_count": null,
   "id": "df370cd8",
   "metadata": {},
   "outputs": [],
   "source": [
    "# Compute the step response for the complex system\n",
    "t1, y1 = ct.step_response(system, T=t)\n",
    "\n",
    "# Compute the step response for the factored system (product of two first-order systems)\n",
    "t2, y2 = ct.step_response(systotal, T=t)\n",
    "\n"
   ]
  },
  {
   "cell_type": "markdown",
   "id": "b3031a66",
   "metadata": {},
   "source": [
    "# Plot the responses"
   ]
  },
  {
   "cell_type": "code",
   "execution_count": null,
   "id": "aa313ab3",
   "metadata": {},
   "outputs": [],
   "source": [
    "plt.figure(figsize=(10, 6))\n",
    "plt.plot(t1, y1, label=\"H(s) = 1 / (s² + 3s + 2)\", linewidth=2)\n",
    "plt.plot(t2, y2, '--', label=\"H1(s)*H2(s) = 1/(s+1) * 1/(s+2)\", linewidth=2)\n",
    "plt.title(\"Comparison of Step Responses\")\n",
    "plt.xlabel(\"Time\")\n",
    "plt.ylabel(\"Response\")\n",
    "plt.grid(True)\n",
    "plt.legend()\n",
    "plt.tight_layout()\n",
    "plt.show()"
   ]
  },
  {
   "cell_type": "markdown",
   "id": "23fc0670",
   "metadata": {},
   "source": [
    "---\n",
    "### Conclusion ✅\n",
    "\n",
    "This exercise demonstrated that the step responses of a factored transfer function and its expanded form are identical.  \n",
    "By comparing $ H_1(s)H_2(s) = \\frac{1}{(s+1)(s+2)} $ with $ H(s) = \\frac{1}{s^2+3s+2} $, we confirmed that factoring or expanding a transfer function does not change the system’s dynamic behavior.  \n",
    "\n",
    "\n",
    "---"
   ]
  }
 ],
 "metadata": {
  "kernelspec": {
   "display_name": "base",
   "language": "python",
   "name": "python3"
  },
  "language_info": {
   "codemirror_mode": {
    "name": "ipython",
    "version": 3
   },
   "file_extension": ".py",
   "mimetype": "text/x-python",
   "name": "python",
   "nbconvert_exporter": "python",
   "pygments_lexer": "ipython3",
   "version": "3.12.7"
  }
 },
 "nbformat": 4,
 "nbformat_minor": 5
}
