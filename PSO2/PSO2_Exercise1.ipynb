{
 "cells": [
  {
   "cell_type": "markdown",
   "id": "dd9272b1",
   "metadata": {},
   "source": [
    "<a name=\"top\" id=\"top\"></a>\n",
    "\n",
    "<div align=\"center\">\n",
    "\n",
    "<h1>PSO 2: Typical open-loop dynamic responses of second order systems</h1>\n",
    "\n",
    "<p>\n",
    "  <a href=\"https://github.com/bernalde\"><strong>David E. Bernal Neira</strong></a><br>\n",
    "  <em>Davidson School of Chemical Engineering, Purdue University</em><br>\n",
    "  <em>Universities Space Research Association</em><br>\n",
    "  <em>NASA QuAIL</em>\n",
    "</p>\n",
    "\n",
    "<br>\n",
    "\n",
    "<p>\n",
    "  <a href=\"https://github.com/mhuertasm\"><strong>Mateo Huertas Marulanda</strong></a><br>\n",
    "  <em>Chemical Engineering, National University of Colombia</em><br>\n",
    "  <em>Undergraduate Visiting Scholar</em>\n",
    "</p>\n",
    "\n",
    "<br>\n",
    "\n",
    "<p>\n",
    "  <a href=\"https://colab.research.google.com\" target=\"_parent\">\n",
    "    <img src=\"https://colab.research.google.com/assets/colab-badge.svg\" alt=\"Open In Colab\">\n",
    "  </a>\n",
    "  <a href=\"https://secquoia.github.io/\">\n",
    "    <img src=\"https://img.shields.io/badge/🌲⚛️🌐-SECQUOIA-blue\" alt=\"SECQUOIA\">\n",
    "  </a>\n",
    "</p>\n",
    "\n",
    "</div>\n",
    "\n",
    "## 🎯 Objective\n",
    "Understand and compare the behavior of second-order systems under step input for various damping conditions (overdamped, critically damped, and underdamped).\n",
    "\n",
    "## 💻 Code Purpose\n",
    "This script simulates and visualizes the step response of three second-order systems with different damping ratios. It helps identify how damping affects the transient response characteristics like overshoot, settling time, and rise time.\n",
    "\n",
    "## 🔑 Key Functions\n",
    "- `control.tf()`: Creates a transfer function model of the system.\n",
    "- `control.step_response()`: The step response is the output of a system when a unit step input (from 0 to 1) is applied. The step_response() function takes a transfer function as input and returns the time values (t) and the system’s output (y).\n"
   ]
  },
  {
   "cell_type": "code",
   "execution_count": null,
   "id": "308e1262",
   "metadata": {},
   "outputs": [],
   "source": [
    "import numpy as np\n",
    "import matplotlib.pyplot as plt\n",
    "import control as ct\n"
   ]
  },
  {
   "cell_type": "markdown",
   "id": "ef38d103",
   "metadata": {},
   "source": [
    "# Define a time vector "
   ]
  },
  {
   "cell_type": "code",
   "execution_count": null,
   "id": "35f35df2",
   "metadata": {},
   "outputs": [],
   "source": [
    "t = np.linspace(0, 30, 100) # Define a time vector (from 0 to 30, with 100 points)"
   ]
  },
  {
   "cell_type": "markdown",
   "id": "07a06c69",
   "metadata": {},
   "source": [
    "# Define the systems"
   ]
  },
  {
   "cell_type": "code",
   "execution_count": null,
   "id": "d4e877ff",
   "metadata": {},
   "outputs": [],
   "source": [
    "\n",
    "# System 1: Second-order system with numerator [1], denominator [1, 4, 1]\n",
    "# H1(s) = 1 / (s² + 4s + 1) Overdamped\n",
    "num1 = [1]\n",
    "den1 = [1, 4, 1]\n",
    "sys1 = ct.tf(num1, den1)\n",
    "\n",
    "# System 2: Second-order system with numerator [2], denominator [1, 2, 1]\n",
    "# H2(s) = 2 / (s² + 2s + 1) Critically damped\n",
    "num2 = [1]\n",
    "den2 = [1, 2, 1]\n",
    "sys2 = ct.tf(num2, den2)\n",
    "\n",
    "# System 3: Second-order system with numerator [1], denominator [1, 0.5, 1]\n",
    "# H3(s) = 1 / (s² + 0.5s + 1) Underdamped\n",
    "num3 = [1]\n",
    "den3 = [1, 0.5, 1]\n",
    "sys3 = ct.tf(num3, den3)"
   ]
  },
  {
   "cell_type": "markdown",
   "id": "3f376bf7",
   "metadata": {},
   "source": [
    "# Define the step responses"
   ]
  },
  {
   "cell_type": "code",
   "execution_count": null,
   "id": "38ba5ae2",
   "metadata": {},
   "outputs": [],
   "source": [
    "# Apply the step input at time 0\n",
    "t1, y1 = ct.step_response(sys1, t)\n",
    "t2, y2 = ct.step_response(sys2, t)\n",
    "t3, y3 = ct.step_response(sys3, t)"
   ]
  },
  {
   "cell_type": "markdown",
   "id": "2e523a16",
   "metadata": {},
   "source": [
    "# Plot the step responses"
   ]
  },
  {
   "cell_type": "code",
   "execution_count": null,
   "id": "046fab6f",
   "metadata": {},
   "outputs": [],
   "source": [
    "# Create a new figure with specified size\n",
    "plt.figure(figsize=(10, 6))\n",
    "plt.plot(t1, np.ones_like(t1), 'k-', linewidth=1.5, label='Step Input (0→1 at t=0)')\n",
    "plt.plot([0, 0], [0, 1], 'k-', linewidth=1.5)\n",
    "\n",
    "# Plot System 1 response (red dashed line)\n",
    "plt.plot(t1, y1, 'r--', label='System 1: H(s) = 1 / (s² + 4s + 1)')\n",
    "\n",
    "# Plot System 2 response (blue dashed line)\n",
    "plt.plot(t2, y2, 'b--', label='System 2: H(s) = 2 / (s² + 2s + 1)')\n",
    "\n",
    "# Plot System 3 response (green dashed line)\n",
    "plt.plot(t3, y3, 'g--', label='System 3: H(s) = 1 / (s² + 0.5s + 1)')\n",
    "\n",
    "# Set plot title and axis labels\n",
    "plt.title(\"Step Response of Second-Order Systems\")\n",
    "plt.xlabel(\"Time\")\n",
    "plt.ylabel(\"Output\")\n",
    "\n",
    "# Show grid and legend\n",
    "plt.grid(True)\n",
    "plt.legend()\n",
    "\n",
    "# Display the plot\n",
    "plt.show()"
   ]
  },
  {
   "cell_type": "markdown",
   "id": "95be1fa1",
   "metadata": {},
   "source": [
    "---\n",
    "## ✅ Conclusion\n",
    "\n",
    "This exercise demonstrates how second-order systems respond differently to a step input depending on their **damping condition**, which describes how oscillations in a system decay over time.\n",
    "\n",
    "In the plot we can see the different system responses:\n",
    "\n",
    "- **🔴 System 1: Overdamped $H_1(s) = \\frac{1}{s^2 + 4s + 1}$**\n",
    "  - Slow and smooth response.\n",
    "  - No oscillations.\n",
    "  - High damping → very stable but sluggish.\n",
    "\n",
    "- **🔵 System 2: Critically Damped $H_2(s) = \\frac{2}{s^2 + 2s + 1}$**\n",
    "  - Fastest response without overshooting.\n",
    "  - No oscillations.\n",
    "  - Optimal balance between speed and stability.\n",
    "\n",
    "- **🟢 System 3: Underdamped  $H_3(s) = \\frac{1}{s^2 + 0.5s + 1}$**\n",
    "  - Fast initial rise.\n",
    "  - Exhibits oscillations and overshoot.\n",
    "  - Low damping → quicker but less stable.\n",
    "\n",
    "The **damping ratio** plays a crucial role in shaping the time-domain behavior of second-order systems. \n",
    "\n",
    "Choosing the right damping level is essential in control system design, as it directly impacts:\n",
    "- Response speed,\n",
    "- Stability,\n",
    "- Accuracy.\n",
    "\n",
    "Engineers must balance these trade-offs to meet specific performance goals depending on the system's application.\n",
    "\n",
    "---"
   ]
  },
  {
   "cell_type": "markdown",
   "id": "5c45294d",
   "metadata": {},
   "source": [
    "## Individual Exercise "
   ]
  },
  {
   "cell_type": "markdown",
   "id": "0c9587f4",
   "metadata": {},
   "source": [
    "Change the form of the transfer function to simulate:\n",
    "\n",
    "1. **An unstable behavior**, and  \n",
    "2. **A system at the limit of instability** (with sustained oscillations)."
   ]
  },
  {
   "cell_type": "markdown",
   "id": "1848e8b1",
   "metadata": {},
   "source": [
    "### Define the time vector\n",
    "Use a time vector long enough to visualize instability and oscillations."
   ]
  },
  {
   "cell_type": "code",
   "execution_count": null,
   "id": "e68b9fd6",
   "metadata": {},
   "outputs": [],
   "source": []
  },
  {
   "cell_type": "markdown",
   "id": "d4923cfb",
   "metadata": {},
   "source": [
    "### Define the transfer function for the unstable system\n",
    "This transfer function has poles with a positive real part, causing oscillations with increasing amplitude."
   ]
  },
  {
   "cell_type": "code",
   "execution_count": null,
   "id": "e6955133",
   "metadata": {},
   "outputs": [],
   "source": []
  },
  {
   "cell_type": "markdown",
   "id": "5592dbca",
   "metadata": {},
   "source": [
    "### Define the transfer function for the marginally stable system\n",
    "This system has purely imaginary poles (no damping), resulting in sustained sinusoidal oscillations."
   ]
  },
  {
   "cell_type": "code",
   "execution_count": null,
   "id": "775fe97a",
   "metadata": {},
   "outputs": [],
   "source": []
  },
  {
   "cell_type": "markdown",
   "id": "750e034b",
   "metadata": {},
   "source": [
    "### Compute the step responses\n",
    "Calculate the output response of each system when subjected to a unit step input."
   ]
  },
  {
   "cell_type": "code",
   "execution_count": null,
   "id": "ebfff5b4",
   "metadata": {},
   "outputs": [],
   "source": []
  },
  {
   "cell_type": "markdown",
   "id": "a86347fc",
   "metadata": {},
   "source": [
    "### Plot the unstable oscillatory system"
   ]
  },
  {
   "cell_type": "code",
   "execution_count": null,
   "id": "7311fc2c",
   "metadata": {},
   "outputs": [],
   "source": []
  },
  {
   "cell_type": "markdown",
   "id": "d4e00da5",
   "metadata": {},
   "source": [
    "### Plot the marginally stable system"
   ]
  },
  {
   "cell_type": "code",
   "execution_count": null,
   "id": "46c4bb88",
   "metadata": {},
   "outputs": [],
   "source": []
  }
 ],
 "metadata": {
  "kernelspec": {
   "display_name": "base",
   "language": "python",
   "name": "python3"
  },
  "language_info": {
   "codemirror_mode": {
    "name": "ipython",
    "version": 3
   },
   "file_extension": ".py",
   "mimetype": "text/x-python",
   "name": "python",
   "nbconvert_exporter": "python",
   "pygments_lexer": "ipython3",
   "version": "3.12.7"
  }
 },
 "nbformat": 4,
 "nbformat_minor": 5
}
