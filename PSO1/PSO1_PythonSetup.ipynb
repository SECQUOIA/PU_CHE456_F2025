{
 "cells": [
  {
   "cell_type": "markdown",
   "id": "8e55175c",
   "metadata": {},
   "source": [
    "<a name=\"top\" id=\"top\"></a>\n",
    "\n",
    "<div align=\"center\">\n",
    "\n",
    "<h1>PSO1: Control Systems in Python using the `control` Package</h1>\n",
    "\n",
    "<p>\n",
    "  <a href=\"https://github.com/bernalde\"><strong>David E. Bernal Neira</strong></a><br>\n",
    "  <em>Davidson School of Chemical Engineering, Purdue University</em><br>\n",
    "  <em>Universities Space Research Association</em><br>\n",
    "  <em>NASA QuAIL</em>\n",
    "</p>\n",
    "\n",
    "<br>\n",
    "\n",
    "<p>\n",
    "  <a href=\"https://github.com/mhuertasm\"><strong>Mateo Huertas Marulanda</strong></a><br>\n",
    "  <em>Chemical Engineering, National University of Colombia</em><br>\n",
    "  <em>Undergraduate Visiting Scholar</em>\n",
    "</p>\n",
    "\n",
    "<br>\n",
    "\n",
    "<p>\n",
    "  <a href=\"https://colab.research.google.com\" target=\"_parent\">\n",
    "    <img src=\"https://colab.research.google.com/assets/colab-badge.svg\" alt=\"Open In Colab\">\n",
    "  </a>\n",
    "  <a href=\"https://secquoia.github.io/\">\n",
    "    <img src=\"https://img.shields.io/badge/🌲⚛️🌐-SECQUOIA-blue\" alt=\"SECQUOIA\">\n",
    "  </a>\n",
    "</p>\n",
    "\n",
    "</div>\n",
    "\n",
    "This notebook introduces the use of the [`control`](https://github.com/python-control/python-control) package for modeling and analyzing control systems in Python. It provides a practical demonstration of creating transfer functions, analyzing system responses, and plotting results.\n",
    "\n",
    "This package will be used in the course to solve the exercises. The documentation for the package can be found at:\n",
    "[https://python-control.readthedocs.io](https://python-control.readthedocs.io)\n",
    "\n",
    "Following is a little explanation of how to use the most commmon functions used across all the excersices"
   ]
  },
  {
   "cell_type": "markdown",
   "id": "27e1dedc",
   "metadata": {},
   "source": [
    "## Transfer Function\n",
    "A **transfer function** represents the relationship between the input and output of a linear time-invariant system in the Laplace domain.\n",
    "\n",
    "A general transfer function has the form:\n",
    "$$\n",
    "H(s) = \\frac{Y(s)}{U(s)} = \\frac{b_ms^m + ... + b_1s + b_0}{a_ns^n + ... + a_1s + a_0}\n",
    "$$\n",
    "\n",
    "Example: $H(s) = \\frac{1}{s^2 + 2s + 1}$"
   ]
  },
  {
   "cell_type": "code",
   "execution_count": null,
   "id": "e9206b43",
   "metadata": {},
   "outputs": [],
   "source": [
    "import control as ctrl\n",
    "import numpy as np\n",
    "import matplotlib.pyplot as plt\n",
    "\n",
    "num = [1]\n",
    "den = [1, 2, 1]\n",
    "system = ctrl.TransferFunction(num, den)\n",
    "print(system)"
   ]
  },
  {
   "cell_type": "markdown",
   "id": "831f47fd",
   "metadata": {},
   "source": [
    "## 📈 Step Response\n",
    "The **step response** is the output of a system when the input is a unit step function (i.e., input suddenly changes from 0 to 1 at t=0).\n",
    "\n",
    "It helps evaluate how the system responds to a sudden change in input."
   ]
  },
  {
   "cell_type": "code",
   "execution_count": null,
   "id": "ff23e913",
   "metadata": {},
   "outputs": [],
   "source": [
    "t, y = ctrl.step_response(system)\n",
    "plt.plot(t, y)\n",
    "plt.title('Step Response')\n",
    "plt.xlabel('Time (s)')\n",
    "plt.ylabel('Output')\n",
    "plt.grid(True)\n",
    "plt.show()"
   ]
  },
  {
   "cell_type": "markdown",
   "id": "a4e5ecc4",
   "metadata": {},
   "source": [
    "## 📊 Forced Response\n",
    "The **forced response** of a system shows how the system behaves when subject to an arbitrary (non-zero) input.\n",
    "\n",
    "It solves the differential equation:\n",
    "$$\n",
    "\\dot{x} = Ax + Bu, \\quad y = Cx + Du\n",
    "$$\n",
    "for a given input function \\( u(t) \\).\n",
    "\n",
    "You can use the `control.forced_response()` function to simulate the response of a system to **any custom input**, such as:\n",
    "- Ramp input\n",
    "- Sinusoidal input\n",
    "- Rectangular pulse (via Heaviside functions)\n",
    "- Exponential decay/growth\n",
    "- Arbitrary signals loaded from data\n",
    "\n",
    "This is useful when step or impulse responses are insufficient to describe how your system behaves in real scenarios."
   ]
  },
  {
   "cell_type": "code",
   "execution_count": null,
   "id": "e8ad7df5",
   "metadata": {},
   "outputs": [],
   "source": [
    "# Example: input is a sine wave\n",
    "T = np.linspace(0, 10, 100)\n",
    "U = np.sin(2 * np.pi * T)                 # Sine wave input\n",
    "\n",
    "# Compute the forced response\n",
    "T, y= ctrl.forced_response(system, T, U)\n",
    "\n",
    "# Plot input and output\n",
    "plt.plot(T, U, '--', label='Input: sin(2πt)')\n",
    "plt.plot(T, y, label='Output: system response')\n",
    "plt.title('Forced Response to Sine Wave Input')\n",
    "plt.xlabel('Time (s)')\n",
    "plt.ylabel('Amplitude')\n",
    "plt.legend()\n",
    "plt.grid(True)\n",
    "plt.show()"
   ]
  },
  {
   "cell_type": "markdown",
   "id": "810b1d95",
   "metadata": {},
   "source": [
    "## 🧮 Heaviside Function\n",
    "The **Heaviside step function** is a mathematical function defined as:\n",
    "$$\n",
    "H(t) = \\begin{cases} 0, & t < 0 \\\\ 1, & t \\geq 0 \\end{cases}\n",
    "$$\n",
    "\n",
    "It is commonly used to model step inputs or sudden changes in a signal."
   ]
  },
  {
   "cell_type": "code",
   "execution_count": null,
   "id": "61397a61",
   "metadata": {},
   "outputs": [],
   "source": [
    "# Example: using numpy heaviside to simulate an input\n",
    "T = np.linspace(-5, 5, 100)\n",
    "U = np.heaviside(T, 1)\n",
    "plt.plot(T, U)\n",
    "plt.title('Heaviside Step Function')\n",
    "plt.xlabel('Time')\n",
    "plt.ylabel('H(t)')\n",
    "plt.grid(True)\n",
    "plt.show()"
   ]
  },
  {
   "cell_type": "markdown",
   "id": "4ec49be5",
   "metadata": {},
   "source": [
    "## ⬛ Rectangular Pulse using Heaviside Function\n",
    "A **rectangular pulse** can be constructed by subtracting two Heaviside step functions:\n",
    "\n",
    "$$\n",
    "P(t) = H(t - t_0) - H(t - t_1)\n",
    "$$\n",
    "This creates a pulse of amplitude 1 between $t_0$ and $t_1$.\n",
    "We can use this as an input to observe the **forced response** of the system."
   ]
  },
  {
   "cell_type": "code",
   "execution_count": null,
   "id": "a508408c",
   "metadata": {},
   "outputs": [],
   "source": [
    "# Define time array\n",
    "T = np.linspace(0, 10, 1000)\n",
    "pulse = np.heaviside(T - 2, 1) - np.heaviside(T - 5, 1)  # Pulse from t=2 to t=5\n",
    "\n",
    "# Compute forced response of the system to the rectangular pulse input\n",
    "T, y= ctrl.forced_response(system, T, pulse)\n",
    "\n",
    "# Plot input and output\n",
    "plt.figure(figsize=(10, 4))\n",
    "plt.plot(T, pulse, label='Rectangular Pulse Input')\n",
    "plt.plot(T, y, label='System Response')\n",
    "plt.title('Forced Response to Rectangular Pulse')\n",
    "plt.xlabel('Time (s)')\n",
    "plt.ylabel('Amplitude')\n",
    "plt.grid(True)\n",
    "plt.legend()\n",
    "plt.show()"
   ]
  },
  {
   "cell_type": "markdown",
   "id": "45644d8f",
   "metadata": {},
   "source": [
    "\n",
    "##  Useful links and references\n",
    "\n",
    "> **Fuller, S., Greiner, B., Moore, J., Murray, R., van Paassen, R., & Yorke, R.** (2021).  \n",
    "> *The Python Control Systems Library (python-control).*  \n",
    "> In *Proceedings of the 60th IEEE Conference on Decision and Control (CDC)* (pp. 4875–4881). IEEE.  \n",
    "> [https://github.com/python-control/python-control](https://github.com/python-control/python-control)\n",
    "\n",
    "\n"
   ]
  }
 ],
 "metadata": {
  "kernelspec": {
   "display_name": "Python 3",
   "language": "python",
   "name": "python3"
  },
  "language_info": {
   "codemirror_mode": {
    "name": "ipython",
    "version": 3
   },
   "file_extension": ".py",
   "mimetype": "text/x-python",
   "name": "python",
   "nbconvert_exporter": "python",
   "pygments_lexer": "ipython3",
   "version": "3.12.2"
  }
 },
 "nbformat": 4,
 "nbformat_minor": 5
}
