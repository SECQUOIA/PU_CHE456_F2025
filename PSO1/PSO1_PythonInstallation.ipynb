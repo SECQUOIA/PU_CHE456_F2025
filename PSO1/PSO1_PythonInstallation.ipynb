{
 "cells": [
  {
   "cell_type": "markdown",
   "id": "aa4fd1df",
   "metadata": {},
   "source": [
    "<a name=\"top\" id=\"top\"></a>\n",
    "\n",
    "<div align=\"center\">\n",
    "\n",
    "<h1> PSO 1: Python Setup Guide for Control Systems</h1>\n",
    "\n",
    "<p>\n",
    "  <a href=\"https://github.com/bernalde\"><strong>David E. Bernal Neira</strong></a><br>\n",
    "  <em>Davidson School of Chemical Engineering, Purdue University</em><br>\n",
    "  <em>Universities Space Research Association</em><br>\n",
    "  <em>NASA QuAIL</em>\n",
    "</p>\n",
    "\n",
    "<br>\n",
    "\n",
    "<p>\n",
    "  <a href=\"https://github.com/mhuertasm\"><strong>Mateo Huertas Marulanda</strong></a><br>\n",
    "  <em>Chemical Engineering, National University of Colombia</em><br>\n",
    "  <em>Undergraduate Visiting Scholar</em>\n",
    "</p>\n",
    "\n",
    "<br>\n",
    "\n",
    "<p>\n",
    "  <a href=\"https://colab.research.google.com\" target=\"_parent\">\n",
    "    <img src=\"https://colab.research.google.com/assets/colab-badge.svg\" alt=\"Open In Colab\">\n",
    "  </a>\n",
    "  <a href=\"https://secquoia.github.io/\">\n",
    "    <img src=\"https://img.shields.io/badge/🌲⚛️🌐-SECQUOIA-blue\" alt=\"SECQUOIA\">\n",
    "  </a>\n",
    "</p>\n",
    "\n",
    "</div>\n",
    "\n",
    "This notebook will guide you through the installation and setup of Python, Visual Studio Code (VS Code), and the necessary packages (`numpy`, `matplotlib`, and `control`) to begin working with control systems."
   ]
  },
  {
   "cell_type": "markdown",
   "id": "e9d0989d",
   "metadata": {},
   "source": [
    "##  Install Python\n",
    "1. Visit the official Python website: [https://www.python.org/downloads/](https://www.python.org/downloads/)\n",
    "2. Download the latest version for your operating system (e.g., Windows, macOS, Linux).\n",
    "3. **Important:** During installation, make sure to check the box that says **\"Add Python to PATH\"**.\n",
    "4. Press Win+R and type cmd, write the following command to make sure you have Python installed.\n",
    "\n",
    "```bash\n",
    "python --version\n",
    "```\n"
   ]
  },
  {
   "cell_type": "markdown",
   "id": "be932610",
   "metadata": {},
   "source": [
    "## Install Visual Studio Code (VS Code)\n",
    "1. Go to [https://code.visualstudio.com/](https://code.visualstudio.com/)\n",
    "2. Download and install the appropriate version for your operating system.\n",
    "3. After installation, open VS Code and install the following extensions:\n",
    "   - **Python** (by Microsoft)\n",
    "   - **Jupyter** (for running notebooks in VS Code)\n",
    "\n",
    "In depth tutorial on installing the extentions can be found in: \n",
    "https://code.visualstudio.com/docs/getstarted/extensions\n",
    "And a general tutorial for using Python in VSCode can be found in: \n",
    "https://code.visualstudio.com/docs/languages/python"
   ]
  },
  {
   "cell_type": "markdown",
   "id": "cae38d08",
   "metadata": {},
   "source": [
    "##  Install pip (Python Package Installer)\n",
    "`pip` usually comes bundled with Python. To verify:\n",
    "\n",
    "```bash\n",
    "pip --version\n",
    "```\n",
    "If `pip` is not installed, follow instructions at: [https://pip.pypa.io/en/stable/installation/](https://pip.pypa.io/en/stable/installation/)"
   ]
  },
  {
   "cell_type": "markdown",
   "id": "dcf5d104",
   "metadata": {},
   "source": [
    "##  Install Required Packages\n",
    "Use `pip` to install the following packages from your terminal or command prompt:\n",
    "\n",
    "```bash\n",
    "pip install numpy matplotlib control\n",
    "```\n",
    "\n",
    "### Package Overview\n",
    "- `numpy`: For numerical operations and array handling\n",
    "- `matplotlib`: For plotting and visualizations\n",
    "- `control`: For control systems modeling and analysis\n"
   ]
  },
  {
   "cell_type": "markdown",
   "id": "11fd6cfe",
   "metadata": {},
   "source": [
    "##  Verify Package Installation\n",
    "You can test the installation by running this code in a Python script or interactive shell:"
   ]
  },
  {
   "cell_type": "code",
   "execution_count": null,
   "id": "16838d11",
   "metadata": {},
   "outputs": [],
   "source": [
    "import numpy as np\n",
    "import matplotlib.pyplot as plt\n",
    "import control as ctrl\n",
    "\n",
    "print('All packages imported successfully.')"
   ]
  },
  {
   "cell_type": "markdown",
   "id": "a2ff0302",
   "metadata": {},
   "source": [
    "## ✅ You're Ready!\n",
    "You now have Python, VS Code, and all required packages installed.\n",
    "\n",
    "You can now open VS Code, create a new `.py` file or Jupyter Notebook, and begin writing control system code.\n",
    "\n",
    "For example, to create a transfer function:\n"
   ]
  },
  {
   "cell_type": "code",
   "execution_count": null,
   "id": "5e89295c",
   "metadata": {},
   "outputs": [],
   "source": [
    "# Example: H(s) = 1 / (s^2 + 2s + 1)\n",
    "num = [1]\n",
    "den = [1, 2, 1]\n",
    "system = ctrl.TransferFunction(num, den)\n",
    "print(system)"
   ]
  }
 ],
 "metadata": {
  "language_info": {
   "name": "python"
  }
 },
 "nbformat": 4,
 "nbformat_minor": 5
}
