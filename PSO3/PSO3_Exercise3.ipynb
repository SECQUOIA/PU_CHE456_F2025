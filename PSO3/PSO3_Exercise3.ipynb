{
 "cells": [
  {
   "cell_type": "markdown",
   "metadata": {},
   "source": [
    "<a name=\"top\" id=\"top\"></a>\n",
    "\n",
    "<div align=\"center\">\n",
    "\n",
    "<h1>PSO 3: Individual exercise: Steady-State Verification of Underdamped Systems </h1>\n",
    "\n",
    "<p>\n",
    "  <a href=\"https://github.com/bernalde\"><strong>David E. Bernal Neira</strong></a><br>\n",
    "  <em>Davidson School of Chemical Engineering, Purdue University</em><br>\n",
    "  <em>Universities Space Research Association</em><br>\n",
    "  <em>NASA QuAIL</em>\n",
    "</p>\n",
    "\n",
    "<br>\n",
    "\n",
    "<p>\n",
    "  <a href=\"https://github.com/mhuertasm\"><strong>Mateo Huertas Marulanda</strong></a><br>\n",
    "  <em>Chemical Engineering, National University of Colombia</em><br>\n",
    "  <em>Undergraduate Visiting Scholar</em>\n",
    "</p>\n",
    "\n",
    "<br>\n",
    "\n",
    "<p>\n",
    "  <a href=\"https://colab.research.google.com\" target=\"_parent\">\n",
    "    <img src=\"https://colab.research.google.com/assets/colab-badge.svg\" alt=\"Open In Colab\">\n",
    "  </a>\n",
    "  <a href=\"https://secquoia.github.io/\">\n",
    "    <img src=\"https://img.shields.io/badge/🌲⚛️🌐-SECQUOIA-blue\" alt=\"SECQUOIA\">\n",
    "  </a>\n",
    "</p>\n",
    "\n",
    "</div>\n",
    "\n",
    "\n",
    "## 🎯 Objective  \n",
    "Verify the steady-state value of the underdamped system:  \n",
    "$$ H(s) = \\frac{10}{s^2 + 1.6s + 4} $$  \n",
    "to a **scaled step input** (magnitude 3) using:  \n",
    "- Theoretical prediction (Final Value Theorem)  \n",
    "- Numerical simulation  \n",
    "\n",
    "---\n",
    "\n",
    "## 💻 Code Purpose  \n",
    "- Validate steady-state behavior through **simulation vs. theory**  \n",
    "- Demonstrate DC gain calculation for underdamped systems\n",
    "\n",
    "## Theory calculation\n",
    "$$\\textbf{Final Value Theorem Prediction}:\n",
    " y_{ss} = \\lim_{s \\to 0} s \\cdot H(s) \\cdot \\frac{3}{s} = \\frac{10 \\times 3}{4} = \\mathbf{7.5}$$\n",
    "\n",
    "$$\n",
    " \\boxed{y_{ss}  = \\mathbf{7.5}}\n",
    "$$"
   ]
  },
  {
   "cell_type": "code",
   "execution_count": null,
   "metadata": {},
   "outputs": [],
   "source": [
    "import numpy as np\n",
    "import matplotlib.pyplot as plt\n",
    "import control as ct"
   ]
  },
  {
   "cell_type": "markdown",
   "metadata": {},
   "source": [
    "# Define the transfer function \n"
   ]
  },
  {
   "cell_type": "markdown",
   "metadata": {},
   "source": [
    "Define the following transfer function for the underdamped system:\n",
    "$$ H(s) = \\frac{10}{s^2 + 1.6s + 4} $$\n"
   ]
  },
  {
   "cell_type": "code",
   "execution_count": null,
   "metadata": {},
   "outputs": [],
   "source": []
  },
  {
   "cell_type": "markdown",
   "metadata": {},
   "source": [
    "\n",
    "\n",
    "# Define the time vector for the simulation\n"
   ]
  },
  {
   "cell_type": "markdown",
   "metadata": {},
   "source": [
    "Create a time vector from 0 to 10 seconds with 1000 points.\n"
   ]
  },
  {
   "cell_type": "code",
   "execution_count": null,
   "metadata": {},
   "outputs": [],
   "source": []
  },
  {
   "cell_type": "markdown",
   "metadata": {},
   "source": [
    "\n",
    "# Define the step input \n"
   ]
  },
  {
   "cell_type": "markdown",
   "metadata": {},
   "source": [
    "Use the Heaviside function to create a step input that starts at \\( t = 0 \\) and has an amplitude of 3.  "
   ]
  },
  {
   "cell_type": "code",
   "execution_count": null,
   "metadata": {},
   "outputs": [],
   "source": []
  },
  {
   "cell_type": "markdown",
   "metadata": {},
   "source": [
    "\n",
    "\n",
    "# Compute the system's response to the step input\n"
   ]
  },
  {
   "cell_type": "markdown",
   "metadata": {},
   "source": [
    "1. **Simulate the System Response:**  \n",
    "    Use the `ct.forced_response` function to compute the output of the system when subjected to the step input over the time vector.\n",
    "\n",
    "2. **Check Steady-State Behavior:**  \n",
    "    Print the last few values of the output (`y_out`) to verify if the system settles at the expected steady-state value predicted by theory.\n",
    "\n",
    "3. **Expected Result:**  \n",
    "    The output should approach the value calculated using the Final Value Theorem.\n",
    "\n"
   ]
  },
  {
   "cell_type": "code",
   "execution_count": null,
   "metadata": {},
   "outputs": [],
   "source": []
  },
  {
   "cell_type": "markdown",
   "metadata": {},
   "source": [
    "\n",
    "\n",
    "# Plot the system response"
   ]
  },
  {
   "cell_type": "code",
   "execution_count": null,
   "metadata": {},
   "outputs": [],
   "source": [
    "\n"
   ]
  }
 ],
 "metadata": {
  "kernelspec": {
   "display_name": "base",
   "language": "python",
   "name": "python3"
  },
  "language_info": {
   "codemirror_mode": {
    "name": "ipython",
    "version": 3
   },
   "file_extension": ".py",
   "mimetype": "text/x-python",
   "name": "python",
   "nbconvert_exporter": "python",
   "pygments_lexer": "ipython3",
   "version": "3.12.7"
  }
 },
 "nbformat": 4,
 "nbformat_minor": 2
}
