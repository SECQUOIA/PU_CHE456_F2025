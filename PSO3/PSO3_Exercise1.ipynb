{
 "cells": [
  {
   "cell_type": "markdown",
   "metadata": {},
   "source": [
    "<a name=\"top\" id=\"top\"></a>\n",
    "\n",
    "<div align=\"center\">\n",
    "\n",
    "<h1>PSO 3: Individual exercise: Second-Order System Response Simulation</h1>\n",
    "\n",
    "<p>\n",
    "  <a href=\"https://github.com/bernalde\"><strong>David E. Bernal Neira</strong></a><br>\n",
    "  <em>Davidson School of Chemical Engineering, Purdue University</em><br>\n",
    "  <em>Universities Space Research Association</em><br>\n",
    "  <em>NASA QuAIL</em>\n",
    "</p>\n",
    "\n",
    "<br>\n",
    "\n",
    "<p>\n",
    "  <a href=\"https://github.com/mhuertasm\"><strong>Mateo Huertas Marulanda</strong></a><br>\n",
    "  <em>Chemical Engineering, National University of Colombia</em><br>\n",
    "  <em>Undergraduate Visiting Scholar</em>\n",
    "</p>\n",
    "\n",
    "<br>\n",
    "\n",
    "<p>\n",
    "  <a href=\"https://colab.research.google.com\" target=\"_parent\">\n",
    "    <img src=\"https://colab.research.google.com/assets/colab-badge.svg\" alt=\"Open In Colab\">\n",
    "  </a>\n",
    "  <a href=\"https://secquoia.github.io/\">\n",
    "    <img src=\"https://img.shields.io/badge/🌲⚛️🌐-SECQUOIA-blue\" alt=\"SECQUOIA\">\n",
    "  </a>\n",
    "</p>\n",
    "\n",
    "</div>\n",
    "\n",
    "\n",
    "## 🎯 Objective  \n",
    "Simulate the response of the second-order system:  $ H(s) = \\frac{3}{s^2 + 2s + 1} $\n",
    "to:  \n",
    "- A **delayed step input**  \n",
    "- A **short rectangular pulse**\n",
    "\n",
    "---\n",
    "\n",
    "## 💻 Code Purpose  \n",
    "- Demonstrate how dynamical systems react to basic inputs (steps/pulses).  \n",
    "- Highlight the **smoothing effect** of system dynamics on abrupt input signals.\n",
    "\n",
    "---\n",
    "\n",
    "## 🔑 Key Functions  \n",
    "- **Delayed step/pulse generation**:  \n",
    "  ```python\n",
    "  np.heaviside(t - delay, 1)  # Creates time-shifted Heaviside function\n",
    "  ct.forced_response(sys, T, u)  # Computes system response to custom input `u`\n",
    "  Example of a rectangular pulse \n",
    "  u_pulse = np.heaviside(t-1, 1) - np.heaviside(t-1.1, 1)  # 0.1-second pulse starting at t=1"
   ]
  },
  {
   "cell_type": "code",
   "execution_count": 9,
   "metadata": {},
   "outputs": [],
   "source": [
    "\n",
    "import numpy as np\n",
    "import matplotlib.pyplot as plt\n",
    "import control as ct  "
   ]
  },
  {
   "cell_type": "markdown",
   "metadata": {},
   "source": [
    "# Define the Second-Order System Transfer Function\n",
    "\n",
    "Create the transfer function for the system:  \n",
    "$ H(s) = \\frac{3}{s^2 + 2s + 1} $\n",
    "\n"
   ]
  },
  {
   "cell_type": "code",
   "execution_count": null,
   "metadata": {},
   "outputs": [],
   "source": []
  },
  {
   "cell_type": "markdown",
   "metadata": {},
   "source": [
    "# Define the Time Vector\n",
    "Use `np.linspace` to create a time vector `t` that starts at 0 seconds and ends at 10 seconds.\n",
    "The vector should contain 1000 evenly spaced points.\n",
    " "
   ]
  },
  {
   "cell_type": "code",
   "execution_count": null,
   "metadata": {},
   "outputs": [],
   "source": []
  },
  {
   "cell_type": "markdown",
   "metadata": {},
   "source": [
    "# Define Input Signals: Delayed Step and Rectangular Pulse\n",
    "\n",
    "Create two input signals to test the system:\n",
    "\n",
    "Use `np.heaviside(t - x, 1)` for the delayed step input.\n",
    "Use `np.heaviside(t - x, 1) - np.heaviside(t - y, 1)` for the rectangular pulse input.\n",
    "\n",
    "Choose random values for x and y to create a delay in the input (Eg, x = 1, y = 1.1). Try and play with these values to see it shift"
   ]
  },
  {
   "cell_type": "code",
   "execution_count": null,
   "metadata": {},
   "outputs": [],
   "source": []
  },
  {
   "cell_type": "markdown",
   "metadata": {},
   "source": [
    "# Simulate the system response\n",
    "\n",
    "Hint: Use the forced_response function"
   ]
  },
  {
   "cell_type": "code",
   "execution_count": null,
   "metadata": {},
   "outputs": [],
   "source": []
  },
  {
   "cell_type": "markdown",
   "metadata": {},
   "source": [
    "# Plot the results\n",
    "Plot each input, output vs time in two seperate plots/subplots"
   ]
  },
  {
   "cell_type": "code",
   "execution_count": null,
   "metadata": {},
   "outputs": [],
   "source": []
  }
 ],
 "metadata": {
  "kernelspec": {
   "display_name": "benchmark",
   "language": "python",
   "name": "python3"
  },
  "language_info": {
   "codemirror_mode": {
    "name": "ipython",
    "version": 3
   },
   "file_extension": ".py",
   "mimetype": "text/x-python",
   "name": "python",
   "nbconvert_exporter": "python",
   "pygments_lexer": "ipython3",
   "version": "3.10.13"
  }
 },
 "nbformat": 4,
 "nbformat_minor": 2
}
