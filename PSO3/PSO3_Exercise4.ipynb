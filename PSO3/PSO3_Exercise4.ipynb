{
 "cells": [
  {
   "cell_type": "markdown",
   "metadata": {},
   "source": [
    "<a name=\"top\" id=\"top\"></a>\n",
    "\n",
    "<div align=\"center\">\n",
    "\n",
    "<h1>PSO 3: Individual exercise: Superposition Principle Verification </h1>\n",
    "\n",
    "<p>\n",
    "  <a href=\"https://github.com/bernalde\"><strong>David E. Bernal Neira</strong></a><br>\n",
    "  <em>Davidson School of Chemical Engineering, Purdue University</em><br>\n",
    "  <em>Universities Space Research Association</em><br>\n",
    "  <em>NASA QuAIL</em>\n",
    "</p>\n",
    "\n",
    "<br>\n",
    "\n",
    "<p>\n",
    "  <a href=\"https://github.com/mhuertasm\"><strong>Mateo Huertas Marulanda</strong></a><br>\n",
    "  <em>Chemical Engineering, National University of Colombia</em><br>\n",
    "  <em>Undergraduate Visiting Scholar</em>\n",
    "</p>\n",
    "\n",
    "<br>\n",
    "\n",
    "<p>\n",
    "  <a href=\"https://colab.research.google.com\" target=\"_parent\">\n",
    "    <img src=\"https://colab.research.google.com/assets/colab-badge.svg\" alt=\"Open In Colab\">\n",
    "  </a>\n",
    "  <a href=\"https://secquoia.github.io/\">\n",
    "    <img src=\"https://img.shields.io/badge/🌲⚛️🌐-SECQUOIA-blue\" alt=\"SECQUOIA\">\n",
    "  </a>\n",
    "</p>\n",
    "\n",
    "</div>\n",
    "\n",
    "## 🎯 Objective  \n",
    "Demonstrate the **superposition principle** for linear systems by:  \n",
    "- Combining two scaled/delayed pulses:  \n",
    "  $u_{\\text{combined}} = u_1 + u_2$  \n",
    "- Verifying:  \n",
    "  $\\operatorname{Response}(u_1 + u_2) = \\operatorname{Response}(u_1) + \\operatorname{Response}(u_2)$  \n",
    "\n",
    "---\n",
    "\n",
    "## 💻 Code Purpose  \n",
    "- Validate **system linearity** through input-output experiments  \n",
    "- Highlight additive properties of LTI systems  \n",
    "\n",
    "---\n",
    "\n",
    "## 🔑 Key Functions & Logic  \n",
    "- **Scaled/delayed pulses**:  \n",
    "  ```python\n",
    "  u1 = 0.5 * np.heaviside(t-1, 1)   # 50% amplitude, starts at t=1\n",
    "  u2 = 0.3 * np.heaviside(t-2, 1)   # 30% amplitude, starts at t=2\n",
    "  u_combined = u1 + u2  # Superposition of inputs\n",
    "\n",
    "  # Individual responses\n",
    "  y1 = ctl.forced_response(sys, T=t, U=u1)\n",
    "  y2 = ctl.forced_response(sys, T=t, U=u2)\n",
    "\n",
    "  # Combined response (should equal y1 + y2)\n",
    "  y_combined = ctl.forced_response(sys, T=t, U=u_combined)\n"
   ]
  },
  {
   "cell_type": "code",
   "execution_count": 1,
   "metadata": {},
   "outputs": [],
   "source": [
    "import numpy as np\n",
    "import matplotlib.pyplot as plt\n",
    "import control as ct  # Alias used consistently"
   ]
  },
  {
   "cell_type": "markdown",
   "metadata": {},
   "source": [
    "### Create the transfer function for the system: \n",
    "\n",
    "$ G(s) = \\frac{3}{s^2 + 2s + 1} $\n"
   ]
  },
  {
   "cell_type": "code",
   "execution_count": null,
   "metadata": {},
   "outputs": [],
   "source": []
  },
  {
   "cell_type": "markdown",
   "metadata": {},
   "source": [
    "### Define the time vector"
   ]
  },
  {
   "cell_type": "markdown",
   "metadata": {},
   "source": [
    "Create a time vector from 0 to 10 seconds with 1000 points\n"
   ]
  },
  {
   "cell_type": "code",
   "execution_count": null,
   "metadata": {},
   "outputs": [],
   "source": []
  },
  {
   "cell_type": "markdown",
   "metadata": {},
   "source": [
    "### Define the input "
   ]
  },
  {
   "cell_type": "markdown",
   "metadata": {},
   "source": [
    "1. **Define the input pulses:**  \n",
    "    - Create two pulse inputs using the `np.heaviside` function:\n",
    "      - The first pulse (`u_pulse1`) should have an amplitude of 0.5, start at t = 3 seconds, and last for 0.1 seconds.\n",
    "      - The second pulse (`u_pulse2`) should have an amplitude of 0.25, start at t = 5 seconds, and last for 0.1 seconds.\n",
    "\n",
    "2. **Combine the pulses:**  \n",
    "    - Add the two pulses together to create a combined input signal (`u_combined`).\n"
   ]
  },
  {
   "cell_type": "code",
   "execution_count": null,
   "metadata": {},
   "outputs": [],
   "source": []
  },
  {
   "cell_type": "markdown",
   "metadata": {},
   "source": [
    "### Simulate the system responses"
   ]
  },
  {
   "cell_type": "markdown",
   "metadata": {},
   "source": [
    "Use the `ct.forced_response` function to compute the system's output for each input signal (combined input, input 1 and input 2)."
   ]
  },
  {
   "cell_type": "code",
   "execution_count": null,
   "metadata": {},
   "outputs": [],
   "source": []
  },
  {
   "cell_type": "markdown",
   "metadata": {},
   "source": [
    "### Plot each of the responses\n",
    "\n",
    "Combined input, input 1 and input 2"
   ]
  },
  {
   "cell_type": "code",
   "execution_count": null,
   "metadata": {},
   "outputs": [],
   "source": []
  }
 ],
 "metadata": {
  "kernelspec": {
   "display_name": "benchmark",
   "language": "python",
   "name": "python3"
  },
  "language_info": {
   "codemirror_mode": {
    "name": "ipython",
    "version": 3
   },
   "file_extension": ".py",
   "mimetype": "text/x-python",
   "name": "python",
   "nbconvert_exporter": "python",
   "pygments_lexer": "ipython3",
   "version": "3.10.13"
  }
 },
 "nbformat": 4,
 "nbformat_minor": 2
}
