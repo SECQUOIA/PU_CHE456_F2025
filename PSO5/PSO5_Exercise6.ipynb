{
 "cells": [
  {
   "cell_type": "code",
   "execution_count": null,
   "id": "03a7153c",
   "metadata": {},
   "outputs": [],
   "source": [
    "import numpy as np\n",
    "import matplotlib.pyplot as plt\n",
    "import control as ct"
   ]
  },
  {
   "cell_type": "markdown",
   "id": "08153741",
   "metadata": {},
   "source": [
    "# 🧪 Exercise 6 - Approximation of higher order systems using lower order systems with time delay.\n",
    "\n",
    "---\n",
    "\n",
    "## 🧠 Problem Statement\n",
    "\n",
    "Consider two processes represented by the following higher order transfer function models:\n",
    "\n",
    "\n",
    "$$\n",
    "G(s) = \\frac{(-0.1s+1)}{(5s+1)(3s+1)(0.5s+1)}\n",
    "$$\n",
    "\n",
    "\n",
    "$$\n",
    "G(s) = \\frac{3}{(6s+1)(3s+1)(s+1)(0.5s+1)^2}\n",
    "$$\n",
    "\n",
    "\n",
    "Derive the following approximate transfer function models:\n",
    "\n",
    "\n",
    "- A FOPTD using the Taylor series expansion-based approach:\n",
    "\n",
    "- A FOPTD using Skogestad’s method:"
   ]
  },
  {
   "cell_type": "markdown",
   "id": "064e2b55",
   "metadata": {},
   "source": [
    "## Calculations\n",
    "\n",
    "---\n",
    "\n",
    "The process for the calculations can be seen on Exercise 5\n",
    "\n",
    "## ✅ Final First-Order Plus Dead Time (FOPDT) Approximation (Stokgestad)\n",
    "\n",
    "Assuming a gain $ K = 1 $, the reduced model of system 1 is:\n",
    "\n",
    "$\n",
    "\\boxed{\\tilde{G}_{SK}(s) = \\frac{e^{-2.1s}}{6.5s + 1}}\n",
    "$\n",
    "\n",
    "Assuming a gain $ K = 3 $, the reduced model of system 2 is:\n",
    "\n",
    "$\n",
    "\\boxed{\\tilde{G}_{SK}(s) = \\frac{3e^{-3.5s}}{7.5s + 1}}\n",
    "$\n",
    "\n",
    "\n",
    "---\n",
    "\n",
    "## ✅ Final First-Order Plus Dead Time (FOPDT) Approximation (Taylor)\n",
    "\n",
    "Assuming a gain $ K = 1 $, the reduced model of system 1 is:\n",
    "\n",
    "$\n",
    "\\boxed{\\tilde{G}_{T}(s) = \\frac{e^{-3.6s}}{5s + 1}}\n",
    "$\n",
    "\n",
    "Assuming a gain $ K = 3 $, the reduced model of system 2 is:\n",
    "\n",
    "$\n",
    "\\boxed{\\tilde{G}_{T}(s) = \\frac{3e^{-5s}}{6s + 1}}\n",
    "$\n",
    "\n",
    "\n",
    "\n",
    "---\n"
   ]
  },
  {
   "cell_type": "markdown",
   "id": "8cec0472",
   "metadata": {},
   "source": [
    "### Define the time vector"
   ]
  },
  {
   "cell_type": "code",
   "execution_count": null,
   "id": "c8843bdb",
   "metadata": {},
   "outputs": [],
   "source": []
  },
  {
   "cell_type": "markdown",
   "id": "37cb6e80",
   "metadata": {},
   "source": [
    "### Define the original systems"
   ]
  },
  {
   "cell_type": "code",
   "execution_count": null,
   "id": "58a6e0e6",
   "metadata": {},
   "outputs": [],
   "source": [
    "# System 1: G(s) = (-0.1s + 1) / (7.5s^3 + 19s^2 + 8.5s + 1)\n",
    "\n",
    "\n",
    "# System 2: G(s) = 3 / (4.5s^5 + 24.75s^4 + 47.5s^3 + 37.25s^2 + 11s + 1)\n"
   ]
  },
  {
   "cell_type": "markdown",
   "id": "083bb08b",
   "metadata": {},
   "source": [
    "### Define the approximate models for both systems"
   ]
  },
  {
   "cell_type": "code",
   "execution_count": null,
   "id": "8277d1e3",
   "metadata": {},
   "outputs": [],
   "source": [
    "\n",
    "# Approximate Models for System 1\n",
    "\n",
    "# Skogestad FOPTD: e^{-2.1s} / (6.5s + 1)\n",
    "\n",
    "\n",
    "# Taylor FOPTD: e^{-3.6s} / (5s + 1)\n",
    "\n",
    "\n",
    "# Approximate Models for System 2\n",
    "\n",
    "# Skogestad FOPTD: e^{-3.5s} / (7.5s + 1)\n",
    "\n",
    "\n",
    "# Taylor FOPTD: e^{-5s} / (6s + 1)\n"
   ]
  },
  {
   "cell_type": "markdown",
   "id": "1828d8bf",
   "metadata": {},
   "source": [
    "### Simulate the step responses"
   ]
  },
  {
   "cell_type": "code",
   "execution_count": null,
   "id": "79c1477f",
   "metadata": {},
   "outputs": [],
   "source": [
    "# System 1 Responses\n",
    "\n",
    "# System 2 Responses\n"
   ]
  },
  {
   "cell_type": "markdown",
   "id": "dca24647",
   "metadata": {},
   "source": [
    "### Plot Results"
   ]
  },
  {
   "cell_type": "code",
   "execution_count": null,
   "id": "88461ffa",
   "metadata": {},
   "outputs": [],
   "source": [
    "plt.figure(figsize=(14, 8))\n",
    "# System 1\n",
    "\n",
    "# System 2\n"
   ]
  }
 ],
 "metadata": {
  "kernelspec": {
   "display_name": "base",
   "language": "python",
   "name": "python3"
  },
  "language_info": {
   "codemirror_mode": {
    "name": "ipython",
    "version": 3
   },
   "file_extension": ".py",
   "mimetype": "text/x-python",
   "name": "python",
   "nbconvert_exporter": "python",
   "pygments_lexer": "ipython3",
   "version": "3.12.7"
  }
 },
 "nbformat": 4,
 "nbformat_minor": 5
}
