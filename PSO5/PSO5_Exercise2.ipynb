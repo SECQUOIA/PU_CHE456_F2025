{
 "cells": [
  {
   "cell_type": "code",
   "execution_count": null,
   "id": "26efb45c",
   "metadata": {},
   "outputs": [],
   "source": [
    "import numpy as np\n",
    "import matplotlib.pyplot as plt\n",
    "import control as ct"
   ]
  },
  {
   "cell_type": "markdown",
   "id": "bcae1fff",
   "metadata": {},
   "source": [
    "\n",
    "# 🧪 Exercise 2 - First Order System with Numerator Dynamics\n",
    "\n",
    "## 📋 Exercise Description\n",
    "\n",
    "Using the Initial Value Theorem (IVT) and Final Value Theorem (FVT), calculate the initial conditions and the new steady-state values in response to a unit step input for a system represented by the following transfer function:\n",
    "\n",
    "$$\n",
    "G(s) = \\frac{y(s)}{x(s)} = \\frac{\\tau_a s + 1}{3s + 1}\n",
    "$$\n",
    "\n",
    "We will evaluate this for different values of $\\tau_a$:\n",
    "\n",
    "- a) $\\tau_a = 5$\n",
    "- b) $\\tau_a = 1$\n",
    "- c) $\\tau_a = -2$\n",
    "- d) $\\tau_a = 3$\n",
    "\n",
    "\n"
   ]
  },
  {
   "cell_type": "markdown",
   "id": "fb4a331d",
   "metadata": {},
   "source": [
    "## 🧠 Calculation\n",
    "\n",
    "---\n",
    "\n",
    "### 🔁 Initial Value Theorem (IVT)\n",
    "\n",
    "\n",
    "The **Initial Value Theorem** states:\n",
    "\n",
    "$$\n",
    "y(0) = \\lim_{s \\to \\infty} s \\cdot Y(s)\n",
    "$$\n",
    "\n",
    "Given a unit step input:\n",
    "\n",
    "$$\n",
    "Y(s) = G(s) \\cdot \\frac{1}{s} = \\frac{\\tau_a s + 1}{3s + 1} \\cdot \\frac{1}{s}\n",
    "$$\n",
    "\n",
    "Then:\n",
    "\n",
    "$$\n",
    "y(0) = \\lim_{s \\to \\infty} \\frac{\\tau_a s + 1}{3s + 1} = \\frac{\\tau_a}{3}\n",
    "$$\n",
    "\n",
    "$$\n",
    "y(0) = \\boxed {\\frac{\\tau_a}{3}}\n",
    "$$\n",
    "---\n",
    "\n",
    "### 🔚 Final Value Theorem (FVT)\n",
    "\n",
    "The **Final Value Theorem** tells us:\n",
    "\n",
    "$$\n",
    "y(\\infty) = \\lim_{s \\to 0} s \\cdot Y(s)\n",
    "$$\n",
    "\n",
    "$$\n",
    "y(\\infty) = \\lim_{s \\to 0} \\frac{\\tau_a s + 1}{3s + 1} = 1\n",
    "$$\n",
    "\n",
    "$$\n",
    "\\boxed {y(\\infty) = 1}\n",
    "$$\n",
    "\n",
    "This means the final output is **independent of** $\\tau_a$.\n",
    "\n",
    "---\n",
    "\n",
    "## ✅ Analytical Results\n",
    "\n",
    "| Case | $$\\tau_a$$ | $$y(0)$$           | $$y(\\infty)$$ |\n",
    "|------|----------|------------------|-------------|\n",
    "| a)   | 5        | $y(0) = \\frac{5}{3}$     | $y(\\infty) = 1$ |\n",
    "| b)   | 1        | $y(0) = \\frac{1}{3}$     | $y(\\infty) = 1$ |\n",
    "| c)   | -2       | $y(0) = -\\frac{2}{3}$    | $y(\\infty) = 1$ |\n",
    "| d)   | 3        | $y(0) = 1$               | $y(\\infty) = 1$ |\n",
    "\n",
    "---\n",
    "\n",
    "These values will now be verified through simulation."
   ]
  },
  {
   "cell_type": "markdown",
   "id": "c342fa3d",
   "metadata": {},
   "source": [
    "\n",
    "### Define the time vector\n",
    "\n"
   ]
  },
  {
   "cell_type": "code",
   "execution_count": null,
   "id": "aaf97b3d",
   "metadata": {},
   "outputs": [],
   "source": []
  },
  {
   "cell_type": "markdown",
   "id": "b70811af",
   "metadata": {},
   "source": [
    "### Define the input"
   ]
  },
  {
   "cell_type": "code",
   "execution_count": null,
   "id": "fc198d69",
   "metadata": {},
   "outputs": [],
   "source": [
    "\n",
    "# Define Heaviside step input starting at t = 1s\n"
   ]
  },
  {
   "cell_type": "markdown",
   "id": "7a77f452",
   "metadata": {},
   "source": [
    "\n",
    "### Define the four systems $ G(s) = \\frac{y(s)}{x(s)} = \\frac{\\tau_a s + 1}{3s + 1} $\n"
   ]
  },
  {
   "cell_type": "code",
   "execution_count": null,
   "id": "869a29c5",
   "metadata": {},
   "outputs": [],
   "source": [
    "\n"
   ]
  },
  {
   "cell_type": "markdown",
   "id": "8ca81603",
   "metadata": {},
   "source": [
    "### Plot the system responses"
   ]
  },
  {
   "cell_type": "code",
   "execution_count": null,
   "id": "223563db",
   "metadata": {},
   "outputs": [],
   "source": [
    "\n",
    "# Plot responses\n",
    "\n",
    "\n",
    "# Plot the input for reference\n"
   ]
  }
 ],
 "metadata": {
  "kernelspec": {
   "display_name": "base",
   "language": "python",
   "name": "python3"
  },
  "language_info": {
   "codemirror_mode": {
    "name": "ipython",
    "version": 3
   },
   "file_extension": ".py",
   "mimetype": "text/x-python",
   "name": "python",
   "nbconvert_exporter": "python",
   "pygments_lexer": "ipython3",
   "version": "3.12.7"
  }
 },
 "nbformat": 4,
 "nbformat_minor": 5
}
