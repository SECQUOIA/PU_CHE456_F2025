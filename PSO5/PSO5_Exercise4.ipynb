{
 "cells": [
  {
   "cell_type": "code",
   "execution_count": null,
   "id": "9a911087",
   "metadata": {},
   "outputs": [],
   "source": [
    "import numpy as np\n",
    "import matplotlib.pyplot as plt\n",
    "import control as ctrl"
   ]
  },
  {
   "cell_type": "markdown",
   "id": "d3fea202",
   "metadata": {},
   "source": [
    "# 🧪 Exercise 4 - Approximation of Time Delay Systems\n",
    "\n",
    "---\n",
    "\n",
    "## 🧠 Problem Statement\n",
    "\n",
    "Given the **First Order Plus Time Delay (FOPTD)** system:\n",
    "\n",
    "$$\n",
    "G(s) = \\frac{2 e^{-4s}}{3s + 1}\n",
    "$$\n",
    "\n",
    "Approximate the time delay element of the system and write the corresponding rational process transfer function:\n",
    "\n",
    "- using **first-order Taylor series** expansion of the time delay\n",
    "- using **first-order Padé approximation** of the time delay\n",
    "\n",
    "\n"
   ]
  },
  {
   "cell_type": "markdown",
   "id": "bc4875b8",
   "metadata": {},
   "source": [
    "### Calculations"
   ]
  },
  {
   "cell_type": "markdown",
   "id": "bc7c87cb",
   "metadata": {},
   "source": [
    "\n",
    "## ✏️ a) Approximations of Time Delay\n",
    "\n",
    "### 🔹 1. First-Order Taylor Series Expansion\n",
    "\n",
    "The **first-order Taylor series expansion** for the time delay $e^{-4s}$ around $s = 0$ is:\n",
    "\n",
    "$$\n",
    "e^{-4s} \\approx 1 - 4s\n",
    "$$\n",
    "\n",
    "Substituting this into the original transfer function:\n",
    "\n",
    "$$\n",
    "G_1(s) = \\frac{2 (1 - 4s)}{3s + 1} = \\boxed{\\frac{2 - 8s}{3s + 1}}\n",
    "$$\n",
    "\n",
    "---\n",
    "\n",
    "### 🔹 2. First-Order Padé Approximation\n",
    "\n",
    "The **first-order Padé approximation** of $e^{-4s}$ is:\n",
    "\n",
    "$$\n",
    "e^{-4s} \\approx \\frac{1 - 2s}{1 + 2s}\n",
    "$$\n",
    "\n",
    "Substitute this into the original transfer function:\n",
    "\n",
    "$$\n",
    "G_2(s) = \\frac{2}{3s + 1} \\cdot \\frac{1 - 2s}{1 + 2s}\n",
    "$$\n",
    "\n",
    "Multiply numerator and denominator:\n",
    "\n",
    "- Numerator: $2(1 - 2s) = 2 - 4s$\n",
    "- Denominator: $(3s + 1)(1 + 2s) = 6s^2 + 5s + 1$\n",
    "\n",
    "So the resulting rational transfer function is:\n",
    "\n",
    "$$\n",
    "\\boxed{G_2(s) = \\frac{2 - 4s}{6s^2 + 5s + 1}}\n",
    "$$\n",
    "\n",
    "---\n",
    "\n",
    "## ✅ Final Results\n",
    "\n",
    "| Approximation Method     | Rational Transfer Function                      |\n",
    "|--------------------------|-------------------------------------------------|\n",
    "| Taylor Series            | $G_1(s) = \\frac{2 - 8s}{3s + 1}$                 |\n",
    "| First-Order Padé         | $G_2(s) = \\frac{2 - 4s}{6s^2 + 5s + 1}$          |\n"
   ]
  },
  {
   "cell_type": "markdown",
   "id": "f30c6db2",
   "metadata": {},
   "source": [
    "### Define the simulation parameters"
   ]
  },
  {
   "cell_type": "code",
   "execution_count": null,
   "id": "cc70e3ee",
   "metadata": {},
   "outputs": [],
   "source": [
    "# --- Define the simulation time vector ---\n",
    "# This creates a time array from 0 to 30 seconds with 1000 points for smooth plotting\n",
    "\n",
    "# --- Define the input signal ---\n",
    "# Create a delayed step input (Heaviside function), which activates at t = 1 second\n",
    "# The second argument (1) defines the value at t = 1 (Heaviside is 0 for t < 1, 1 for t > 1)\n"
   ]
  },
  {
   "cell_type": "markdown",
   "id": "3f07787d",
   "metadata": {},
   "source": [
    "### Define the original and aproximation systems"
   ]
  },
  {
   "cell_type": "code",
   "execution_count": null,
   "id": "03e7b942",
   "metadata": {},
   "outputs": [],
   "source": [
    "\n",
    "# --- 1. Taylor Series Approximation of the time delay ---\n",
    "\n",
    "# The transfer function: G1(s) = (2 - 8s) / (3s + 1)\n",
    "# This approximates e^(-4s) with a first-order Taylor expansion\n",
    "\n",
    "\n",
    "# Simulate the forced response of G1 to the delayed input u\n",
    "\n",
    "\n",
    "# --- 2. First-Order Padé Approximation of the time delay ---\n",
    "\n",
    "# The transfer function: G2(s) = (2 - 4s) / (6s² + 5s + 1)\n",
    "# This approximates e^(-4s) using a first-order Padé approximation\n",
    "\n",
    "\n",
    "# Simulate the forced response of G2 to the delayed input u\n",
    "\n",
    "\n",
    "\n",
    "# --- 3. Original System (no internal delay) ---\n",
    "\n",
    "# The transfer function: G3(s) = 2 / (3s + 1)\n",
    "# This is the original system without any time delay\n",
    "\n",
    "\n",
    "# Simulate the forced response of G3 to the delayed input u\n",
    "\n",
    "\n"
   ]
  },
  {
   "cell_type": "markdown",
   "id": "3d23cb58",
   "metadata": {},
   "source": [
    "### Plot the system responses"
   ]
  },
  {
   "cell_type": "code",
   "execution_count": null,
   "id": "43bade80",
   "metadata": {},
   "outputs": [],
   "source": [
    "# --- Plot the input and system responses ---\n",
    "\n",
    "# Plot the input signal\n",
    "\n",
    "# Plot the response of the Taylor approximation\n",
    "\n",
    "# Plot the response of the Padé approximation\n",
    "\n",
    "# Plot the response of the original system (without delay)\n",
    "\n",
    "# Add title and axis labels\n",
    "\n",
    "\n",
    "# Add grid and legend for better readability\n",
    "\n",
    "\n",
    "# Adjust layout and display the plot\n"
   ]
  }
 ],
 "metadata": {
  "kernelspec": {
   "display_name": "base",
   "language": "python",
   "name": "python3"
  },
  "language_info": {
   "codemirror_mode": {
    "name": "ipython",
    "version": 3
   },
   "file_extension": ".py",
   "mimetype": "text/x-python",
   "name": "python",
   "nbconvert_exporter": "python",
   "pygments_lexer": "ipython3",
   "version": "3.12.7"
  }
 },
 "nbformat": 4,
 "nbformat_minor": 5
}
