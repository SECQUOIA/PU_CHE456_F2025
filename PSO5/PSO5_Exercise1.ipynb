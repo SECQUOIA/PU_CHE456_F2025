{
 "cells": [
  {
   "cell_type": "code",
   "execution_count": null,
   "id": "83077146",
   "metadata": {},
   "outputs": [],
   "source": [
    "import numpy as np\n",
    "import matplotlib.pyplot as plt\n",
    "import control as ct"
   ]
  },
  {
   "cell_type": "markdown",
   "id": "bcdd9f00",
   "metadata": {},
   "source": [
    "# 🧪 Exercise 1 - Systems with Zeros\n",
    "\n",
    "## 📋 Problem Statement  \n",
    "You are given three transfer functions:\n",
    "\n",
    "$$\n",
    "G_1(s) = \\frac{(s - 1)(s - 2)}{(2s + 1)(10s + 1)(3s + 1)}\n",
    "$$\n",
    "\n",
    "$$\n",
    "G_2(s) = \\frac{s - 1}{s^3 - 6s^2 + 11s - 6}\n",
    "$$\n",
    "\n",
    "$$\n",
    "G_3(s) = \\frac{s + 1}{4s^2 + s + 1}\n",
    "$$\n",
    "\n",
    "The goals are:\n",
    "- Analyze the poles and zeros of each transfer function.\n",
    "- Simulate and visualize their step responses separately.\n",
    "- Validate your qualitative expectations through simulation.\n",
    "\n",
    "## 🧰 Python Tools\n",
    "\n",
    "- `control.poles()` / `control.zeros()`: Analyze poles and zeros.\n",
    "\n"
   ]
  },
  {
   "cell_type": "markdown",
   "id": "c0589caa",
   "metadata": {},
   "source": [
    "\n",
    "### Define Time Vector "
   ]
  },
  {
   "cell_type": "code",
   "execution_count": null,
   "id": "00d47aa0",
   "metadata": {},
   "outputs": [],
   "source": []
  },
  {
   "cell_type": "markdown",
   "id": "86253b7d",
   "metadata": {},
   "source": [
    "### Define and Analyze Transfer Functions"
   ]
  },
  {
   "cell_type": "code",
   "execution_count": null,
   "id": "aacfc615",
   "metadata": {},
   "outputs": [],
   "source": [
    "# --- G1 ---\n",
    "\n",
    "\n",
    "# --- G2 ---\n",
    "\n",
    "\n",
    "# --- G3 ---\n"
   ]
  },
  {
   "cell_type": "markdown",
   "id": "f285cf52",
   "metadata": {},
   "source": [
    "### Plot the system zeros/poles"
   ]
  },
  {
   "cell_type": "code",
   "execution_count": null,
   "id": "610edf74",
   "metadata": {},
   "outputs": [],
   "source": [
    "# === Plot poles and zeros in the complex (Cartesian) plane ===\n",
    "\n",
    "# --- G1: Plot zeros and poles in blue ---\n",
    "\n",
    "# --- G2: Plot zeros and poles in green ---\n",
    "\n",
    "# --- G3: Plot zeros and poles in red ---\n",
    "\n",
    "# plt.axis('equal') # Equal scaling for both axes (helps preserve geometry of poles/zeros)\n",
    "\n"
   ]
  },
  {
   "cell_type": "markdown",
   "id": "448f5f07",
   "metadata": {},
   "source": [
    "### Apply the step response"
   ]
  },
  {
   "cell_type": "code",
   "execution_count": null,
   "id": "fbacbef4",
   "metadata": {},
   "outputs": [],
   "source": []
  },
  {
   "cell_type": "markdown",
   "id": "698d91af",
   "metadata": {},
   "source": [
    "### Plot the system response"
   ]
  },
  {
   "cell_type": "code",
   "execution_count": null,
   "id": "6f3ae7f1",
   "metadata": {},
   "outputs": [],
   "source": [
    "# === Step Responses in Subplots ===\n",
    "\n",
    "# --- G1 Step Response ---\n",
    "\n",
    "\n",
    "# --- G2 Step Response ---\n",
    "\n",
    "\n",
    "\n",
    "# --- G3 Step Response ---\n",
    "\n",
    "\n",
    "\n",
    "# Layout and display\n",
    "\n"
   ]
  },
  {
   "cell_type": "markdown",
   "id": "c1791b54",
   "metadata": {},
   "source": [
    "## 🔍 Poles and Zeros Analysis\n",
    "\n",
    "We analyze the poles and zeros of each transfer function to understand their behavior and expected response.\n",
    "\n",
    "### ⚙️ Transfer Function G₁(s)\n",
    "\n",
    "$$\n",
    "G_1(s) = \\frac{(s - 1)(s - 2)}{(2s + 1)(10s + 1)(3s + 1)}\n",
    "$$\n",
    "\n",
    "- **Zeros:**  \n",
    "  $s = 1$, $s = 2$  \n",
    "\n",
    "- **Poles:**  \n",
    "  $s = -\\frac{1}{2}$, $s = -\\frac{1}{10}$, $s = -\\frac{1}{3}$  \n",
    "  All poles are on the left-half plane, so the system is **stable**.\n",
    "\n",
    "---\n",
    "\n",
    "### ⚙️ Transfer Function G₂(s)\n",
    "\n",
    "$$\n",
    "G_2(s) = \\frac{s - 1}{s^3 - 6s^2 + 11s - 6}\n",
    "$$\n",
    "\n",
    "- **Zero:**  \n",
    "  $s = 1$ \n",
    "\n",
    "- **Poles:**  \n",
    "  The denominator factors as $(s - 1)(s - 2)(s - 3)$, so:\n",
    "\n",
    "  $s = 1$, $s = 2$, $s = 3$  \n",
    "  These are all on the **right-half plane**, indicating the system is **unstable**.\n",
    "\n",
    "---\n",
    "\n",
    "### ⚙️ Transfer Function G₃(s)\n",
    "\n",
    "$$\n",
    "G_3(s) = \\frac{s + 1}{4s^2 + s + 1}\n",
    "$$\n",
    "\n",
    "- **Zero:**  \n",
    "  $s = -1$ \n",
    "\n",
    "- **Poles:**  \n",
    "  Roots of $4s^2 + s + 1 = 0$:\n",
    "\n",
    "  $$\n",
    "  s = \\frac{-1 \\pm \\sqrt{1 - 16}}{8} = \\frac{-1 \\pm j\\sqrt{15}}{8}\n",
    "  $$\n",
    "\n",
    "  These are **complex conjugates with negative real parts**, so the system is **stable with oscillatory response**.\n",
    "\n",
    "---\n"
   ]
  }
 ],
 "metadata": {
  "kernelspec": {
   "display_name": "benchmark",
   "language": "python",
   "name": "python3"
  },
  "language_info": {
   "codemirror_mode": {
    "name": "ipython",
    "version": 3
   },
   "file_extension": ".py",
   "mimetype": "text/x-python",
   "name": "python",
   "nbconvert_exporter": "python",
   "pygments_lexer": "ipython3",
   "version": "3.10.13"
  }
 },
 "nbformat": 4,
 "nbformat_minor": 5
}
