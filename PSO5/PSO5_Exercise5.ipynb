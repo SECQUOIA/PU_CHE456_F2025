{
 "cells": [
  {
   "cell_type": "code",
   "execution_count": null,
   "id": "332f3304",
   "metadata": {},
   "outputs": [],
   "source": [
    "import numpy as np\n",
    "import matplotlib.pyplot as plt\n",
    "import control as ct"
   ]
  },
  {
   "cell_type": "markdown",
   "id": "1da5df1a",
   "metadata": {},
   "source": [
    "# 🧪 Exercise 5 - Approximation of higher order systems using lower order with time delay systems.\n",
    "\n",
    "---\n",
    "\n",
    "## 🧠 Problem Statement\n",
    "\n",
    "Consider a process represented by the following higher order transfer function model:\n",
    "\n",
    "\n",
    "$$\n",
    "G(s) = \\frac{1}{(10s+1)(25s+1)(s+1)^2}\n",
    "$$\n",
    "\n",
    "\n",
    "\n",
    "Derive the following approximate transfer function models:\n",
    "\n",
    "\n",
    "- A FOPTD using the Taylor series expansion-based approach:\n",
    "\n",
    "- A Second order plus time delay using Taylor series approach:\n",
    "\n",
    "- A FOPTD using Skogestad’s method:\n",
    "\n",
    "\n",
    "\n",
    "Construct the suitable Python code and simulate the step responses of the original system together with the three approximate models.\n",
    "\n",
    "---"
   ]
  },
  {
   "cell_type": "markdown",
   "id": "1ddedab8",
   "metadata": {},
   "source": [
    "# Calculations\n",
    "\n",
    "## 🎯 Model Reduction \n",
    "\n",
    "We are given the following high-order transfer function:\n",
    "\n",
    "$\n",
    "G(s) = \\frac{1}{(10s + 1)(25s + 1)(s + 1)^2}\n",
    "$\n",
    "\n",
    "---\n",
    "\n",
    "## 🔍 Identify Time Constants\n",
    "\n",
    "We rewrite each term to extract time constants:\n",
    "\n",
    "- $ 10s + 1 \\Rightarrow \\tau = 10 $\n",
    "- $ 25s + 1 \\Rightarrow \\tau = 25 $\n",
    "- $ s + 1 $ appears twice → two time constants of $ \\tau = 1 $\n",
    "\n",
    "So the time constants are:\n",
    "\n",
    "$\n",
    "[25,\\ 10,\\ 1,\\ 1]\n",
    "$\n",
    "\n",
    "---\n",
    "\n",
    "## ✅ Keep the **largest** time constant (Stokgestad, Taylor)\n",
    "This is:\n",
    "$\n",
    "\\tau_{\\text{main}} = 25\n",
    "$\n",
    "\n",
    "### ❌ Neglect the rest: [10, 1, 1]\n",
    "\n",
    "---\n",
    "\n",
    "### 🧮 Compute New Time Constant using the \"Half Rule\" (Stokgestad)\n",
    "\n",
    "Skogestad suggests adding **half of the largest neglected** time constant to the dominant one:\n",
    "\n",
    "- Largest neglected = **10**\n",
    "- Half of it = **5**\n",
    "\n",
    "So the new effective time constant is:\n",
    "\n",
    "$\n",
    "\\tau = 25 + \\frac{10}{2} = 30\n",
    "$\n",
    "\n",
    "\n",
    "---\n",
    "\n",
    "## ⏱ Compute Total Time Delay (θ)\n",
    "\n",
    "### Time delay in Stokgestad Method\n",
    "\n",
    "We include:\n",
    "- The **other half** of the neglected 10 → +5\n",
    "- The two small time constants (1 each) → +1 + 1 = 2\n",
    "\n",
    "So:\n",
    "\n",
    "$\n",
    "\\theta = 5 + 1 + 1 = 7\n",
    "$\n",
    "\n",
    "### Time delay in Taylor Method\n",
    "\n",
    "We include:\n",
    "\n",
    "- The Taylor aproximation $ \\frac{1}{\\tau s+ 1}= e^{-\\tau s}$ , in this case $ e^{-10 s}$, $ e^{-1 s}$, $ e^{-1 s}$ = $ e^{-12 s}$\n",
    "\n",
    "### Time delay in Second order system:\n",
    "\n",
    "We include:\n",
    "\n",
    "- $\\theta = \\sum_{i=3}^{N} \\tau $\n",
    "\n",
    "- The Taylor aproximation $ \\frac{1}{\\theta s + 1}= e^{-\\theta s}$ , in this case $ e^{-1 s}$, $ e^{-1 s}$,= $ e^{-2 s}$\n",
    "\n",
    "---\n",
    "\n",
    "## ✅ Final First-Order Plus Dead Time (FOPDT) Approximation (Stokgestad)\n",
    "\n",
    "Assuming a gain $ K = 1 $, the reduced model is:\n",
    "\n",
    "$\n",
    "\\boxed{\\tilde{G}_{SK}(s) = \\frac{e^{-7s}}{30s + 1}}\n",
    "$\n",
    "\n",
    "\n",
    "---\n",
    "\n",
    "## ✅ Final First-Order Plus Dead Time (FOPDT) Approximation (Taylor)\n",
    "\n",
    "Assuming a gain $ K = 1 $, the reduced model is:\n",
    "\n",
    "$\n",
    "\\boxed{\\tilde{G}_{SK}(s) = \\frac{e^{-12s}}{25s + 1}}\n",
    "$\n",
    "\n",
    "\n",
    "---\n",
    "\n",
    "## ✅ Final  Second order plus time:\n",
    "\n",
    "Assuming a gain $ K = 1 $, the reduced model is:\n",
    "\n",
    "$\n",
    "\\boxed{\\tilde{G}_{SK}(s) = \\frac{e^{-2s}}{(25s + 1)(10s + 1)}}\n",
    "$\n",
    "\n"
   ]
  },
  {
   "cell_type": "markdown",
   "id": "48733c20",
   "metadata": {},
   "source": [
    "### Solution"
   ]
  },
  {
   "cell_type": "markdown",
   "id": "59dac113",
   "metadata": {},
   "source": [
    "### Define the original system"
   ]
  },
  {
   "cell_type": "code",
   "execution_count": null,
   "id": "87ef0440",
   "metadata": {},
   "outputs": [],
   "source": [
    "# Original System: G(s) = 1 / [(10s+1)(25s+1)(s+1)^2]\n",
    "              # Numerator\n",
    "              # Expanded denominator: 250s^4 + 535s^3 + 321s^2 + 37s + 1\n"
   ]
  },
  {
   "cell_type": "markdown",
   "id": "276e7375",
   "metadata": {},
   "source": [
    "### Define the approximate models"
   ]
  },
  {
   "cell_type": "code",
   "execution_count": null,
   "id": "4b6e39f4",
   "metadata": {},
   "outputs": [],
   "source": [
    "# Approximate Models (Delay-Free First)\n",
    "\n",
    "# 1. Skogestad FOPTD (no delay): 1 / (30s + 1)\n",
    "\n",
    "\n",
    "# 2. Taylor FOPTD (no delay): 1 / (25s + 1)\n",
    "\n",
    "\n",
    "# 3. SOPTD (no delay): 1 / [(25s+1)(10s+1)] = 1 / (250s^2 + 35s + 1)\n"
   ]
  },
  {
   "cell_type": "markdown",
   "id": "4aded729",
   "metadata": {},
   "source": [
    "\n",
    "### Add Delays "
   ]
  },
  {
   "cell_type": "code",
   "execution_count": null,
   "id": "0d7ee843",
   "metadata": {},
   "outputs": [],
   "source": [
    "# 1. Skogestad: θ = 7s\n",
    "\n",
    "\n",
    "# 2. Taylor: θ = 12s\n",
    "\n",
    "# 3. SOPTD: θ = 2s\n"
   ]
  },
  {
   "cell_type": "markdown",
   "id": "3278602c",
   "metadata": {},
   "source": [
    "### Simulate Step Responses For Each"
   ]
  },
  {
   "cell_type": "code",
   "execution_count": null,
   "id": "69d01f0c",
   "metadata": {},
   "outputs": [],
   "source": [
    "                                    #Create time vector from 0 to 160 with 1000 points"
   ]
  },
  {
   "cell_type": "markdown",
   "id": "f625384f",
   "metadata": {},
   "source": [
    "### Plot Results"
   ]
  },
  {
   "cell_type": "code",
   "execution_count": null,
   "id": "3dd0b3fc",
   "metadata": {},
   "outputs": [],
   "source": []
  }
 ],
 "metadata": {
  "kernelspec": {
   "display_name": "base",
   "language": "python",
   "name": "python3"
  },
  "language_info": {
   "codemirror_mode": {
    "name": "ipython",
    "version": 3
   },
   "file_extension": ".py",
   "mimetype": "text/x-python",
   "name": "python",
   "nbconvert_exporter": "python",
   "pygments_lexer": "ipython3",
   "version": "3.12.7"
  }
 },
 "nbformat": 4,
 "nbformat_minor": 5
}
