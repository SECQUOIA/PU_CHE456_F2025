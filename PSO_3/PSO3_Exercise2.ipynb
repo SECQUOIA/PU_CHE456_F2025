{
 "cells": [
  {
   "cell_type": "markdown",
   "id": "a3927210",
   "metadata": {},
   "source": [
    "<a name=\"top\" id=\"top\"></a>\n",
    "\n",
    "<div align=\"center\">\n",
    "\n",
    "<h1>PSO 3: Individual exercise: Fifth-Order System Stability & Response Analysis </h1>\n",
    "\n",
    "<p>\n",
    "  <a href=\"https://github.com/bernalde\"><strong>David E. Bernal Neira</strong></a><br>\n",
    "  <em>Davidson School of Chemical Engineering, Purdue University</em><br>\n",
    "  <em>Universities Space Research Association</em><br>\n",
    "  <em>NASA QuAIL</em>\n",
    "</p>\n",
    "\n",
    "<br>\n",
    "\n",
    "<p>\n",
    "  <a href=\"https://github.com/mhuertasm\"><strong>Mateo Huertas Marulanda</strong></a><br>\n",
    "  <em>Chemical Engineering, National University of Colombia</em><br>\n",
    "  <em>Undergraduate Visiting Scholar</em>\n",
    "</p>\n",
    "\n",
    "<br>\n",
    "\n",
    "<p>\n",
    "  <a href=\"https://colab.research.google.com\" target=\"_parent\">\n",
    "    <img src=\"https://colab.research.google.com/assets/colab-badge.svg\" alt=\"Open In Colab\">\n",
    "  </a>\n",
    "  <a href=\"https://secquoia.github.io/\">\n",
    "    <img src=\"https://img.shields.io/badge/🌲⚛️🌐-SECQUOIA-blue\" alt=\"SECQUOIA\">\n",
    "  </a>\n",
    "</p>\n",
    "\n",
    "</div>\n",
    "\n",
    "\n",
    "## 🎯 Objective  \n",
    "Analyze a fifth-order system's:  \n",
    "- **Stability** via pole locations  \n",
    "- Response to **longer pulses** and **scaled inputs**  \n",
    "\n",
    "---\n",
    "\n",
    "## 💻 Code Purpose  \n",
    "- Compare behavior of higher-order systems vs. simpler (e.g., second-order) systems.  \n",
    "- Introduce **stability analysis** through pole computation.  \n",
    "\n",
    "---\n",
    "\n",
    "## 🔑 Key Functions  \n",
    "- **Stability check**  \n",
    "- `ct.poles(H)`: Computes system poles (critical for stability assessment)  \n",
    "- `np.real(poles)`: Extract real parts of poles  \n",
    "- `np.imag(poles)`: Extract imaginary parts of poles  \n",
    "- Input scaling: `0.1 * (np.heaviside(t-1, 1))` — reduces input amplitude by 90%\n"
   ]
  },
  {
   "cell_type": "code",
   "execution_count": 2,
   "id": "f66a07c9",
   "metadata": {},
   "outputs": [],
   "source": [
    "import numpy as np\n",
    "import matplotlib.pyplot as plt\n",
    "import control as ct  "
   ]
  },
  {
   "cell_type": "markdown",
   "id": "03ab3f44",
   "metadata": {},
   "source": [
    "# Define a transfer function "
   ]
  },
  {
   "cell_type": "markdown",
   "id": "f634857f",
   "metadata": {},
   "source": [
    "\n",
    "Define the fifth-order transfer function for the system in the Laplace domain:\n",
    "\n",
    "The transfer function should be:\n",
    "$$\n",
    "H(s) = \\frac{1}{s^5 + 2s^4 + 14s^3 + 60s^2 + 81s + 34}\n",
    "$$\n",
    "\n"
   ]
  },
  {
   "cell_type": "markdown",
   "id": "5fd54251",
   "metadata": {},
   "source": [
    "# Compute the system's poles\n",
    "  "
   ]
  },
  {
   "cell_type": "markdown",
   "id": "763b3da1",
   "metadata": {},
   "source": [
    "To analyze the stability of the fifth-order system, compute and display its poles using the following steps:\n",
    "\n",
    "  1. Use the `ct.poles()` function to calculate the poles of your transfer function `H`.\n",
    "  2. Print the resulting poles to the console.  \n",
    "  3. Interpret the pole locations:  \n",
    "    - If all poles have negative real parts, the system is stable.\n",
    "    - If any pole has a positive real part, the system is unstable.\n"
   ]
  },
  {
   "cell_type": "code",
   "execution_count": null,
   "id": "a33176b7",
   "metadata": {},
   "outputs": [],
   "source": []
  },
  {
   "cell_type": "markdown",
   "id": "ceff9fca",
   "metadata": {},
   "source": [
    "## Plot the system poles"
   ]
  },
  {
   "cell_type": "markdown",
   "id": "acb6b841",
   "metadata": {},
   "source": [
    "1. **Compute the System Poles:**  \n",
    "    - Save the value of the poles in a variable (poles).\n",
    "\n",
    "2. **Visualize the Poles on the Complex Plane:**  \n",
    "    - Use `np.real(poles)` and `np.imag(poles)` to extract the real and imaginary parts of the poles of the transfer function.\n",
    "    - Use `plt.scatter()` to plot the poles on the complex plane as large red 'x' markers.  \n",
    "    (`plt.scatter(np.real(poles),np.imag(poles))` creates a clear visual representation of each pole's location, making it easy to distinguish individual poles and analyze their distribution.)\n",
    "\n",
    "3. **Interpretation:**  \n",
    "    - If all poles have negative real parts, the system is stable.\n",
    "    - If any pole has a positive real part, the system is unstable.\n"
   ]
  },
  {
   "cell_type": "code",
   "execution_count": null,
   "id": "39201231",
   "metadata": {},
   "outputs": [],
   "source": []
  },
  {
   "cell_type": "markdown",
   "id": "0577f8ad",
   "metadata": {},
   "source": [
    "# Define the time vector for simulation\n"
   ]
  },
  {
   "cell_type": "markdown",
   "id": "7a5538fc",
   "metadata": {},
   "source": [
    " - Create a time vector `t` that spans from 0 to 10 seconds.\n",
    "- Use `np.linspace()` to generate 1000 evenly spaced points within this interval.\n",
    "- This time vector will be used for simulating the system's response to different input signals.\n"
   ]
  },
  {
   "cell_type": "code",
   "execution_count": null,
   "id": "2341c499",
   "metadata": {},
   "outputs": [],
   "source": []
  },
  {
   "cell_type": "markdown",
   "id": "0a8cc4d2",
   "metadata": {},
   "source": [
    "## Define Input Signals for System Response Simulation\n",
    "\n",
    "Follow these steps to create input signals that will be used to analyze the system's response:\n",
    "\n",
    "1. **Step Input (`u_step`)**  \n",
    "    - Create a unit step function that activates at $t = 1$ second.  \n",
    "    - Use `np.heaviside(t - x, 1)` to generate this signal.\n",
    "\n",
    "2. **Pulse Input (`u_pulse1`)**  \n",
    "    - Construct a rectangular pulse that starts at $t = 1$ second and ends at $t = 2$ seconds.  \n",
    "    - Use `np.heaviside(t - x, 1) - np.heaviside(t - y, 1)`.\n",
    "\n",
    "3. **Short Pulse Input (`u_pulse2`)**  \n",
    "    - Create a short pulse of duration $0.1$ seconds, starting at $t = 1$ second.  \n",
    "    - Scale the magnitude by $0.1$ to observe the effect of a smaller input.  \n",
    "    - Use `A * (np.heaviside(t - x, 1) - np.heaviside(t - y, 1))`.\n",
    "\n"
   ]
  },
  {
   "cell_type": "code",
   "execution_count": null,
   "id": "07aab05c",
   "metadata": {},
   "outputs": [],
   "source": []
  },
  {
   "cell_type": "markdown",
   "id": "3cb26e41",
   "metadata": {},
   "source": [
    "## Compute System Response to Different Inputs\n",
    "\n",
    "Follow these steps to simulate and analyze how the fifth-order system responds to various input signals:\n",
    "\n",
    "Use `ct.forced_response()` to compute the system's output when subjected an input.\n",
    "  \n"
   ]
  },
  {
   "cell_type": "code",
   "execution_count": null,
   "id": "718c6ef1",
   "metadata": {},
   "outputs": [],
   "source": []
  },
  {
   "cell_type": "markdown",
   "id": "a8f7e143",
   "metadata": {},
   "source": [
    " # Plot the system responses"
   ]
  },
  {
   "cell_type": "code",
   "execution_count": null,
   "id": "87d37acc",
   "metadata": {},
   "outputs": [],
   "source": []
  }
 ],
 "metadata": {
  "kernelspec": {
   "display_name": "benchmark",
   "language": "python",
   "name": "python3"
  },
  "language_info": {
   "codemirror_mode": {
    "name": "ipython",
    "version": 3
   },
   "file_extension": ".py",
   "mimetype": "text/x-python",
   "name": "python",
   "nbconvert_exporter": "python",
   "pygments_lexer": "ipython3",
   "version": "3.10.13"
  }
 },
 "nbformat": 4,
 "nbformat_minor": 5
}
