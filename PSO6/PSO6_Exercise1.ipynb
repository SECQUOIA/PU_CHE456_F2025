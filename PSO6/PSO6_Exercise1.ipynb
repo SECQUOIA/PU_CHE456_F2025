{
 "cells": [
  {
   "cell_type": "code",
   "execution_count": null,
   "id": "3bec5dbb",
   "metadata": {},
   "outputs": [],
   "source": [
    "import numpy as np\n",
    "import matplotlib.pyplot as plt\n",
    "import control as ct"
   ]
  },
  {
   "cell_type": "markdown",
   "id": "92ea7e99",
   "metadata": {},
   "source": [
    "# 🧪 Exercise 1 - System approximation and closed loop behavior\n",
    "\n",
    "---\n",
    "\n",
    "## 🧠 Problem Statement\n",
    "\n",
    "A process has the following block diagram representation:\n",
    "\n",
    "$$\n",
    "U(s) \\rightarrow \\frac{0.1}{(0.1s + 1)^2} \\rightarrow \\frac{10}{4s^2 + 2s + 1} \\rightarrow Y(s)\n",
    "$$\n",
    "\n",
    "Answer the following:\n",
    "\n",
    "a) Will the process exhibit overshoot for a step change in $U$? Explain why or why not.\n",
    "\n",
    "b) What will be the approximate maximum value of $Y$ for a step change of $U(s) = \\frac{3}{s}$?\n",
    "\n",
    "c) Approximately when will the maximum value occur?\n",
    "\n",
    "d) Simulate and plot both the actual fourth order response and a second-order-plus-time-delay response.\n",
    "\n",
    "---\n",
    "\n",
    "## ✅ Solution\n",
    "\n",
    "---\n",
    "\n",
    "### a) Will the process exhibit overshoot?\n",
    "\n",
    "We analyze the transfer function of the system:\n",
    "\n",
    "$$\n",
    "G(s) = \\frac{0.1}{(0.1s + 1)^2} \\cdot \\frac{10}{4s^2 + 2s + 1}\n",
    "$$\n",
    "\n",
    "The first block has a short time constant $\\tau = 0.1$, making it a **fast** system with little impact on the overall dynamics.\n",
    "\n",
    "The second block is a second-order system:\n",
    "\n",
    "$$\n",
    "\\frac{10}{4s^2 + 2s + 1} \n",
    "$$\n",
    "\n",
    "Comparing to the standard form:\n",
    "\n",
    "$$\n",
    "\\frac{K_p}{\\tau^2 s^2 + 2\\zeta \\tau s + 1}\n",
    "$$\n",
    "\n",
    "We identify:\n",
    "\n",
    "- $\\tau = 2$\n",
    "- $\\zeta = 0.5$\n",
    "\n",
    "This is an **underdamped** system → the system **will exhibit overshoot**. And because $\\tau$ the system response of $\\tau=2$ is dominant. \n",
    "\n",
    "---\n",
    "\n",
    "### b) Approximate maximum value of $Y$ for $U(s) = \\frac{3}{s}$\n",
    "\n",
    "#### Compute the steady-state value using the Final Value Theorem\n",
    "\n",
    "$$\n",
    "Y_{ss} = \\lim_{s \\to 0} s \\cdot G(s) \\cdot U(s) = \\lim_{s \\to 0} s \\cdot \\frac{0.1}{(0.1s + 1)^2} \\cdot \\frac{10}{4s^2 + 2s + 1} \\cdot \\frac{3}{s}\n",
    "$$\n",
    "\n",
    "$$\n",
    "\\boxed{Y_{ss} = \\frac{0.1 \\cdot 10 \\cdot 3}{1^2 \\cdot 1} = 3}\n",
    "$$\n",
    "\n",
    "#### Estimate overshoot\n",
    "\n",
    "$$\n",
    "OS(\\%) = e^{\\left(-\\frac{\\pi \\zeta}{\\sqrt{1 - \\zeta^2}}\\right)} \\cdot 100\n",
    "$$\n",
    "\n",
    "$$\n",
    "\\boxed{OS = e^{-\\frac{\\pi(0.5)}{\\sqrt{1 - 0.5^2}}} \\cdot 100 = e^{-1.813} \\cdot 100 \\approx 16.3\\%}\n",
    "$$\n",
    "\n",
    "#### Maximum value\n",
    "\n",
    "$$\n",
    "Y_{\\text{max}} \\approx Y_{ss} \\cdot (1 + OS) = 3 \\cdot (1 + 0.163) \\approx 3.49\n",
    "$$\n",
    "\n",
    "$$\n",
    "\\boxed{Y_{\\text{max}} \\approx 3.49}\n",
    "$$\n",
    "\n",
    "---\n",
    "\n",
    "### c) When does the maximum value occur?\n",
    "\n",
    "For underdamped systems, the time of the first peak is:\n",
    "\n",
    "$$\n",
    "t_{\\text{peak}} = \\frac{\\pi \\tau}{\\sqrt{1 - \\zeta^2}} = \\frac{2 \\pi }{\\sqrt{1 - 0.25}} = \\frac{2 \\pi }{\\sqrt{0.75}} \\approx 7.25 \\, \\text{seconds}\n",
    "$$\n",
    "\n",
    "\n",
    "$$\n",
    "\\boxed{t_{\\text{peak}} \\approx 7.25 \\, \\text{s}}\n",
    "$$\n",
    "\n",
    "### d) Find the  second-order-plus-time-delay system ?\n",
    "\n",
    "The process for this solution can be found in PSO6E5\n",
    "\n",
    "$$\n",
    "\\boxed{\\text{G} = \\frac{e^{-2s}}{4s^2+2s+1}}\n",
    "$$\n",
    "\n",
    "\n",
    "\n",
    "\n",
    "---\n"
   ]
  },
  {
   "cell_type": "markdown",
   "id": "82960e8e",
   "metadata": {},
   "source": [
    "### Define the time vector"
   ]
  },
  {
   "cell_type": "code",
   "execution_count": null,
   "id": "b20f746a",
   "metadata": {},
   "outputs": [],
   "source": [
    "# Time vector (0 to 30s with a 1000 points)\n"
   ]
  },
  {
   "cell_type": "markdown",
   "id": "2e4342b0",
   "metadata": {},
   "source": [
    "### Define the transfer functions"
   ]
  },
  {
   "cell_type": "code",
   "execution_count": null,
   "id": "2c643fb2",
   "metadata": {},
   "outputs": [],
   "source": [
    "# Transfer function of the original system (G_original)\n",
    "# G(s) = (0.1 / (0.1s + 1)^2) * (10 / (4s^2 + 2s + 1)), since they are in series\n",
    "\n",
    "\n",
    "# Create the full transfer function\n"
   ]
  },
  {
   "cell_type": "markdown",
   "id": "ef59b3b1",
   "metadata": {},
   "source": [
    "### Define the approximation "
   ]
  },
  {
   "cell_type": "code",
   "execution_count": null,
   "id": "83e2d544",
   "metadata": {},
   "outputs": [],
   "source": [
    "\n",
    "# SOPTD approximation\n",
    "# G_approx(s) = e^(-0.2s) / (4s^2 + 2s + 1)\n",
    "\n",
    "                      # Pade approximation for delay\n",
    "\n"
   ]
  },
  {
   "cell_type": "markdown",
   "id": "0e26093d",
   "metadata": {},
   "source": [
    "### Define the step input"
   ]
  },
  {
   "cell_type": "code",
   "execution_count": null,
   "id": "4d1a6994",
   "metadata": {},
   "outputs": [],
   "source": [
    "# Step response to a 3-unit step for original and the SOPTD\n"
   ]
  },
  {
   "cell_type": "markdown",
   "id": "8d02f2e4",
   "metadata": {},
   "source": [
    "### Plot the system response"
   ]
  },
  {
   "cell_type": "code",
   "execution_count": null,
   "id": "4d4f80e2",
   "metadata": {},
   "outputs": [],
   "source": [
    "# Plotting (Original and SOPTD)\n"
   ]
  },
  {
   "cell_type": "markdown",
   "id": "ce749e10",
   "metadata": {},
   "source": [
    "### Simulate the closed loop response and compare it with the plot above"
   ]
  },
  {
   "cell_type": "code",
   "execution_count": null,
   "id": "7af821c0",
   "metadata": {},
   "outputs": [],
   "source": [
    "# Closed-loop simulations with proportional controllers\n",
    "Kc_values = [1, 12]\n",
    "\n",
    "# Create new figure with subplots\n",
    "plt.figure(figsize=(12, 5))\n",
    "\n",
    "for i, Kc in enumerate(Kc_values, start=1):\n",
    "    plt.subplot(1, 2, i)\n",
    "    Gc = ct.TransferFunction([Kc], [1])\n",
    "    G_cl = ct.feedback(ct.series(Gc, G_original), 1) \n",
    "    T, y = ct.step_response(G_cl * 3, t)\n",
    "\n",
    "    plt.plot(T, y, label=f'Kc = {Kc}', color='tab:blue' if Kc == 1 else 'tab:red')\n",
    "    plt.axhline(3, color='gray', linestyle=':', label='Reference = 3')\n",
    "    plt.title(f'Closed-loop Response (Kc = {Kc})')\n",
    "    plt.xlabel('Time [s]')\n",
    "    plt.ylabel('Output Y(t)')\n",
    "    plt.grid(True)\n",
    "    plt.legend()\n",
    "\n",
    "plt.tight_layout()\n",
    "plt.show()"
   ]
  }
 ],
 "metadata": {
  "kernelspec": {
   "display_name": "base",
   "language": "python",
   "name": "python3"
  },
  "language_info": {
   "codemirror_mode": {
    "name": "ipython",
    "version": 3
   },
   "file_extension": ".py",
   "mimetype": "text/x-python",
   "name": "python",
   "nbconvert_exporter": "python",
   "pygments_lexer": "ipython3",
   "version": "3.12.7"
  }
 },
 "nbformat": 4,
 "nbformat_minor": 5
}
