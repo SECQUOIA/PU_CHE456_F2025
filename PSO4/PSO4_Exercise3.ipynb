{
 "cells": [
  {
   "cell_type": "code",
   "execution_count": 1,
   "id": "ed3eae3d",
   "metadata": {},
   "outputs": [],
   "source": [
    "import numpy as np\n",
    "import matplotlib.pyplot as plt\n",
    "import control as ct"
   ]
  },
  {
   "cell_type": "markdown",
   "id": "57b9decf",
   "metadata": {},
   "source": [
    "# 🚀 Exercise 3: Dynamic features of the response of second order systems\n",
    "---\n",
    "\n",
    "## 🎯 Objective\n",
    "Simulate and analyze the response of a second-order system to a delayed step input of magnitude 2. The step occurs at $t = 1$ second.\n",
    "\n",
    "---\n",
    "\n",
    "## 🧩 System Definition\n",
    "We consider the following transfer function:\n",
    "\n",
    "$$\n",
    "G(s) = \\frac{2}{s^2 + s + 4}\n",
    "$$\n",
    "\n",
    "This is a second-order underdamped system. In general, the transfer function for a second-order systems is defined as \n",
    "$$\n",
    "G(s) = \\frac{K\\omega_n^2}{s^2 + 2\\zeta\\omega_ns + \\omega_n^2}\n",
    "$$\n",
    "and is characterized by:\n",
    "- Gain: $K = 0.5$\n",
    "- Natural frequency: $\\omega_n = 2$\n",
    "- Damping ratio: $\\zeta = 0.25$\n",
    "- Time constant: $\\tau = 0.5$\n",
    "\n",
    "---\n",
    "## 📐 System Properties and Metrics\n",
    "From the analytical theory of second-order systems, we calculate:\n",
    "\n",
    "- **Overshoot**:\n",
    "  $$\n",
    "  \\text{Overshoot} = e^{\\left(-\\frac{\\pi \\zeta}{\\sqrt{1 - \\zeta^2}}\\right)}\n",
    "  $$\n",
    "- **Decay ratio**: \n",
    "  $$\n",
    "  \\text{Decay} = \\text{Overshoot}^2\n",
    "  $$\n",
    "- **Oscillation period**:\n",
    "  $$\n",
    "  T = \\frac{2\\pi \\tau}{\\sqrt{1 - \\zeta^2}}\n",
    "  $$\n",
    "- **Maximum output value**:\n",
    "  $$\n",
    "  y_{\\text{max}} = y_{ss}(1 + \\text{Overshoot})\n",
    "  $$\n",
    "\n",
    "The steady-state value $y_{ss}$ is known to be 1 due to the gain properties of the system.\n",
    "\n",
    "---"
   ]
  },
  {
   "cell_type": "markdown",
   "id": "023b86bd",
   "metadata": {},
   "source": [
    "### Define the transfer function of the system "
   ]
  },
  {
   "cell_type": "code",
   "execution_count": null,
   "id": "32d1fa59",
   "metadata": {},
   "outputs": [],
   "source": [
    "# G(s) = 2 / (s^2 + s + 4)\n"
   ]
  },
  {
   "cell_type": "markdown",
   "id": "89a99eb3",
   "metadata": {},
   "source": [
    "### Define the Time vector for simulation "
   ]
  },
  {
   "cell_type": "code",
   "execution_count": null,
   "id": "f41236a7",
   "metadata": {},
   "outputs": [],
   "source": [
    "# The time vector should be from 0s to 10s with 1000 points in between\n"
   ]
  },
  {
   "cell_type": "markdown",
   "id": "46e63e6d",
   "metadata": {},
   "source": [
    "### Define the step input signal with a delay of 1s"
   ]
  },
  {
   "cell_type": "code",
   "execution_count": null,
   "id": "41085e0b",
   "metadata": {},
   "outputs": [],
   "source": []
  },
  {
   "cell_type": "markdown",
   "id": "078e9885",
   "metadata": {},
   "source": [
    "### Simulate the forced response of the system "
   ]
  },
  {
   "cell_type": "code",
   "execution_count": null,
   "id": "101be400",
   "metadata": {},
   "outputs": [],
   "source": []
  },
  {
   "cell_type": "markdown",
   "id": "fa0f941f",
   "metadata": {},
   "source": [
    "### Define system parameters"
   ]
  },
  {
   "cell_type": "code",
   "execution_count": null,
   "id": "834fea31",
   "metadata": {},
   "outputs": [],
   "source": [
    "tau =                    # Time constant\n",
    "zeta =                   # Damping ratio\n",
    "y_ss =                   # Steady-state value (analyzed)\n",
    "wn =                     # Natural frequency\n",
    "wd =                     # Damped frequency"
   ]
  },
  {
   "cell_type": "markdown",
   "id": "2a9067d9",
   "metadata": {},
   "source": [
    "### Calculations based on second-order system theory"
   ]
  },
  {
   "cell_type": "code",
   "execution_count": null,
   "id": "316dac27",
   "metadata": {},
   "outputs": [],
   "source": [
    "overshoot =                # Peak overshoot\n",
    "decay_ratio =              # Decay ratio\n",
    "period =                   # Oscillation period\n",
    "y_max =                    # Maximum output value\n",
    "t_s =                      # Approximate settling time\n"
   ]
  },
  {
   "cell_type": "markdown",
   "id": "d7531724",
   "metadata": {},
   "source": [
    "### Get initial and final values from simulation"
   ]
  },
  {
   "cell_type": "code",
   "execution_count": null,
   "id": "bd8534d4",
   "metadata": {},
   "outputs": [],
   "source": [
    "y0 = \n",
    "y_inf = "
   ]
  },
  {
   "cell_type": "markdown",
   "id": "ffcfff4d",
   "metadata": {},
   "source": [
    "### Print results"
   ]
  },
  {
   "cell_type": "code",
   "execution_count": null,
   "id": "738adee4",
   "metadata": {},
   "outputs": [],
   "source": [
    "# === Print results to console ===\n",
    "print(f\"y*(0) = {y0:.2f}\")\n",
    "print(f\"y*(∞) = {y_inf:.2f}\")\n",
    "print(f\"Overshoot = {overshoot * 100:.2f}%\")\n",
    "print(f\"Decay ratio = {decay_ratio:.3f}\")\n",
    "print(f\"Oscillation period = {period:.2f} s\")\n",
    "print(f\"Maximum value of y*(t) ≈ {y_max:.2f}\")"
   ]
  },
  {
   "cell_type": "markdown",
   "id": "e0f3f973",
   "metadata": {},
   "source": [
    "### Plot input and system response"
   ]
  },
  {
   "cell_type": "code",
   "execution_count": null,
   "id": "56e613e1",
   "metadata": {},
   "outputs": [],
   "source": [
    "plt.figure(figsize=(10, 5))\n",
    "plt.plot(t, u, 'k--', label='Input: $2 \\\\cdot H(t - 1)$')\n",
    "plt.plot(t_out, y_out, label='System Response', linewidth=2)\n",
    "plt.axhline(y=y_ss, color='gray', linestyle='--', label='Steady-State Value $y_{ss} = 1$')\n",
    "plt.axhline(y=y_max, color='r', linestyle=':', label=f'Max Value ≈ {y_max:.2f}')\n",
    "# First period marker at t = 3.56 s\n",
    "plt.axvline(x=3.56, color='green', linestyle='--', label='Period $P = 3.24s$')\n",
    "# Second marker at t = 3.56 + 3.24 = 6.80 s\n",
    "plt.axvline(x=6.80, color='green', linestyle='--')\n",
    "plt.title('Response to Delayed Step Input (2 · Heaviside(t - 1))')\n",
    "plt.xlabel('Time')\n",
    "plt.ylabel('Output $y^*(t)$')\n",
    "plt.legend()\n",
    "plt.grid(True)\n",
    "plt.tight_layout()\n",
    "plt.show()"
   ]
  }
 ],
 "metadata": {
  "kernelspec": {
   "display_name": "benchmark",
   "language": "python",
   "name": "python3"
  },
  "language_info": {
   "codemirror_mode": {
    "name": "ipython",
    "version": 3
   },
   "file_extension": ".py",
   "mimetype": "text/x-python",
   "name": "python",
   "nbconvert_exporter": "python",
   "pygments_lexer": "ipython3",
   "version": "3.10.13"
  }
 },
 "nbformat": 4,
 "nbformat_minor": 5
}
