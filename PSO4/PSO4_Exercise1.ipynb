{
 "cells": [
  {
   "cell_type": "code",
   "execution_count": 2,
   "id": "b68c96ad",
   "metadata": {},
   "outputs": [],
   "source": [
    "\n",
    "import numpy as np\n",
    "import matplotlib.pyplot as plt\n",
    "import control as ct\n"
   ]
  },
  {
   "cell_type": "markdown",
   "id": "ddfbecde",
   "metadata": {},
   "source": [
    "# Exercise 1: Dynamic features of the response of second order systems\n",
    "\n",
    "## 🎯 Objective  \n",
    "\n",
    "Analyze the dynamic behavior of a second-order system defined by the transfer function  \n",
    "\n",
    "$$\n",
    "\\frac{Y(s)}{X(s)} = \\frac{3}{s^2 + 2s + 4}\n",
    "$$ \n",
    "\n",
    "when subjected to a step input of magnitude 2. The goal is to determine the error between the input magnitude and the steady-state output.\n",
    "\n",
    "## 💻 Code Purpose  \n",
    "\n",
    "This code simulates the response of a second-order system to a step input using Python and the `control` library. It calculates the steady-state output of the system and compares it to the step input magnitude to determine the error."
   ]
  },
  {
   "cell_type": "markdown",
   "id": "28f758e3",
   "metadata": {},
   "source": [
    "\n",
    "# Define the transfer function:"
   ]
  },
  {
   "cell_type": "code",
   "execution_count": null,
   "id": "274afcc5",
   "metadata": {},
   "outputs": [],
   "source": [
    "# This is a second-order system with a numerator of 3 and a characteristic equation in the denominator"
   ]
  },
  {
   "cell_type": "markdown",
   "id": "a87d3918",
   "metadata": {},
   "source": [
    "# Define the time vector:\n"
   ]
  },
  {
   "cell_type": "code",
   "execution_count": null,
   "id": "beb57291",
   "metadata": {},
   "outputs": [],
   "source": []
  },
  {
   "cell_type": "markdown",
   "id": "6adf286f",
   "metadata": {},
   "source": [
    "## Simulate the response of the system to the input\n"
   ]
  },
  {
   "cell_type": "code",
   "execution_count": null,
   "id": "6ab5bda6",
   "metadata": {},
   "outputs": [],
   "source": [
    "# The step input is modeled using the Heaviside function scaled by 2"
   ]
  },
  {
   "cell_type": "markdown",
   "id": "d2d18332",
   "metadata": {},
   "source": [
    "## Plot the system response"
   ]
  },
  {
   "cell_type": "code",
   "execution_count": null,
   "id": "c0608253",
   "metadata": {},
   "outputs": [],
   "source": []
  },
  {
   "cell_type": "markdown",
   "id": "0d53ee05",
   "metadata": {},
   "source": [
    "## Compute the error"
   ]
  },
  {
   "cell_type": "code",
   "execution_count": null,
   "id": "ef578975",
   "metadata": {},
   "outputs": [],
   "source": [
    "# Define the step input magnitude for later comparison\n",
    "step_magnitude = 2\n",
    "\n",
    "# Calculate the steady-state value of the output (last value of the response)\n",
    "steady_state_value = \n",
    "\n",
    "# Compute the error between the input magnitude and the steady-state output\n",
    "error = step_magnitude - steady_state_value\n",
    "\n",
    "# Print the steady-state value and the error\n",
    "print(f\"Steady-state value: {steady_state_value:.4f}\")\n",
    "print(f\"Error between input and output at steady-state: {error:.4f}\")"
   ]
  }
 ],
 "metadata": {
  "kernelspec": {
   "display_name": "benchmark",
   "language": "python",
   "name": "python3"
  },
  "language_info": {
   "codemirror_mode": {
    "name": "ipython",
    "version": 3
   },
   "file_extension": ".py",
   "mimetype": "text/x-python",
   "name": "python",
   "nbconvert_exporter": "python",
   "pygments_lexer": "ipython3",
   "version": "3.10.13"
  }
 },
 "nbformat": 4,
 "nbformat_minor": 5
}
