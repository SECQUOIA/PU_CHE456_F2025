{
 "cells": [
  {
   "cell_type": "code",
   "execution_count": 1,
   "id": "1ad33129",
   "metadata": {},
   "outputs": [],
   "source": [
    "import numpy as np\n",
    "import matplotlib.pyplot as plt\n",
    "import control as ct"
   ]
  },
  {
   "cell_type": "markdown",
   "id": "53e1d989",
   "metadata": {},
   "source": [
    "# Exercise 7 - Integrating vs First Order System 🧮\n",
    "\n",
    "---\n",
    "\n",
    "## 📋 Problem Statement\n",
    "\n",
    "Perform comparative simulation of the dynamic response to a unit step change in the input of:  \n",
    "1. A first order system: $ \\frac{1}{2s + 1} $  \n",
    "2. An integrating system: $ \\frac{1}{2s} $  \n",
    "3. A pure gain system: $ 1 $  \n",
    "\n",
    "---\n",
    "\n"
   ]
  },
  {
   "cell_type": "markdown",
   "id": "fd7a3ff2",
   "metadata": {},
   "source": [
    "## 🛠️ Solution\n",
    "### Define System Transfer Functions"
   ]
  },
  {
   "cell_type": "code",
   "execution_count": null,
   "id": "6a029626",
   "metadata": {},
   "outputs": [],
   "source": [
    "# Create the three systems\n",
    "                              # 1/(2s + 1)\n",
    "                              # 1/(2s)\n",
    "                              # 1"
   ]
  },
  {
   "cell_type": "markdown",
   "id": "d63ae233",
   "metadata": {},
   "source": [
    "\n",
    "###  Set Up Simulation Parameters"
   ]
  },
  {
   "cell_type": "code",
   "execution_count": null,
   "id": "f1f922e3",
   "metadata": {},
   "outputs": [],
   "source": [
    "\n",
    "# Time vector (0 to 10 seconds with 1000 points in between)\n",
    "\n",
    "# Create unit input step signal\n"
   ]
  },
  {
   "cell_type": "markdown",
   "id": "d3f56c7b",
   "metadata": {},
   "source": [
    "### Simulate System Responses Using Step Response\n"
   ]
  },
  {
   "cell_type": "code",
   "execution_count": null,
   "id": "c7f84d98",
   "metadata": {},
   "outputs": [],
   "source": []
  },
  {
   "cell_type": "markdown",
   "id": "a817a710",
   "metadata": {},
   "source": [
    "### Plot Results"
   ]
  },
  {
   "cell_type": "code",
   "execution_count": null,
   "id": "e277909f",
   "metadata": {},
   "outputs": [],
   "source": []
  }
 ],
 "metadata": {
  "kernelspec": {
   "display_name": "benchmark",
   "language": "python",
   "name": "python3"
  },
  "language_info": {
   "codemirror_mode": {
    "name": "ipython",
    "version": 3
   },
   "file_extension": ".py",
   "mimetype": "text/x-python",
   "name": "python",
   "nbconvert_exporter": "python",
   "pygments_lexer": "ipython3",
   "version": "3.10.13"
  }
 },
 "nbformat": 4,
 "nbformat_minor": 5
}
