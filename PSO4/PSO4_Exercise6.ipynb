{
 "cells": [
  {
   "cell_type": "code",
   "execution_count": 1,
   "id": "3b56bc55",
   "metadata": {},
   "outputs": [],
   "source": [
    "import numpy as np\n",
    "import matplotlib.pyplot as plt\n",
    "import control as ct  "
   ]
  },
  {
   "cell_type": "markdown",
   "id": "31ffe6db",
   "metadata": {},
   "source": [
    "# Exercise 6: Combination of simple systems 🧩\n",
    "\n",
    "---\n",
    "\n",
    "## 📋 Problem Statement\n",
    "\n",
    "From the example *First-order lags in series* (Topic 6, page 9), we have the following transfer function defining the system:\n",
    "\n",
    "$\n",
    "G = \\frac{T_m}{T_0} = \\frac{e^{-25s}}{(10s + 1)(5s + 1)}\n",
    "$\n",
    "\n",
    "Construct a model of the process and simulate the response of the system to:  \n",
    "a) Unit step change in $T_{0}$  \n",
    "b) A unit impulse change with a duration of 10 min  \n",
    "c) A sinusoidal input with amplitude of 2 and frequency 0.5 rad/min  \n",
    "\n",
    "---\n",
    "\n",
    "## 🔑 Key Functions and Concepts\n",
    "\n",
    "- `control.pade()`: Computes a **Padé approximation** of a time delay $ e^{-sT} $, converting it into a rational transfer function (numerator/denominator polynomials). This enables analysis of systems with delays.\n",
    "\n",
    "---\n",
    "\n",
    "### ⏳ Padé Approximation for Time Delay\n",
    "\n",
    "In the system, we approximate time delays using the Padé approximation of the form $ e^{-s\\tau} \\approx \\frac{P(s)}{Q(s)} $, where $P(s)$ and $ Q(s) $ are polynomials of order determined by the Padé approximation order.  \n",
    "\n",
    "- **Low-order Padé approximations** are used to keep the model simple and computationally efficient.  \n",
    "- **Higher-order Padé approximations** provide more accuracy, particularly for large delays, but come with the cost of additional complexity and potential numerical challenges.  \n",
    "\n",
    "In general, it is better to use the **lowest order** that gives acceptable results for your application.  \n",
    "\n",
    "---"
   ]
  },
  {
   "cell_type": "markdown",
   "id": "43f9bb58",
   "metadata": {},
   "source": [
    "## Define the time vector"
   ]
  },
  {
   "cell_type": "code",
   "execution_count": null,
   "id": "b2803a62",
   "metadata": {},
   "outputs": [],
   "source": [
    "# Time vector (From 0 to 100 minutes with 1000 points in between)\n"
   ]
  },
  {
   "cell_type": "markdown",
   "id": "801a17ee",
   "metadata": {},
   "source": [
    "# Define the system"
   ]
  },
  {
   "cell_type": "code",
   "execution_count": null,
   "id": "75676408",
   "metadata": {},
   "outputs": [],
   "source": [
    "# ----------------------------------------\n",
    "# Transfer function without delay: G0(s) = 1 / [(10s+1)(5s+1)]\n",
    "# ----------------------------------------\n",
    "\n",
    "# Time delay: 25 minutes (use Pade approximation)\n",
    "\n",
    "# Full system G(s) = e^(-25s) / [(10s+1)(5s+1)] (Hint: Use ct.series(G1, G2, ..) to combine multiple transfer functions in series)\n"
   ]
  },
  {
   "cell_type": "markdown",
   "id": "0d0c323e",
   "metadata": {},
   "source": [
    "# Define the step inputs"
   ]
  },
  {
   "cell_type": "code",
   "execution_count": null,
   "id": "e669f4ee",
   "metadata": {},
   "outputs": [],
   "source": [
    "# ----------------------------------------\n",
    "# a) Unit step input using Heaviside \n",
    "# ----------------------------------------\n",
    "u_step = np.heaviside(t, 1)\n",
    "t_out_step, y_step = ct.forced_response(G, T=t, U=u_step)\n",
    "y_step = np.where(t < delay, 0, y_step) # Set output to 0 before delay\n",
    "\n",
    "\n",
    "# ----------------------------------------\n",
    "# b) Impulse-like input \n",
    "# ----------------------------------------\n",
    "imp_start = 0\n",
    "imp_end = 10\n",
    "u_impulse = (np.heaviside(t - imp_start, 1) - np.heaviside(t - imp_end, 1))\n",
    "t_out_impulse, y_impulse = ct.forced_response(G, T=t, U=u_impulse)\n",
    "y_impulse = np.where(t < delay, 0, y_impulse) # Set output to 0 before delay\n",
    "\n",
    "# ----------------------------------------\n",
    "# c) Sinusoidal input: amplitude = 2, frequency = 0.5 rad/min\n",
    "# ----------------------------------------\n",
    "omega = 0.5\n",
    "u_sine = 2 * np.sin(omega * t)\n",
    "t_out_sine, y_sine = ct.forced_response(G, T=t, U=u_sine)\n",
    "y_sine = np.where(t < delay, 0, y_sine) # Set output to 0 before delay\n"
   ]
  },
  {
   "cell_type": "markdown",
   "id": "cbbdd8f3",
   "metadata": {},
   "source": [
    "# Plot the responses"
   ]
  },
  {
   "cell_type": "code",
   "execution_count": null,
   "id": "97ae4657",
   "metadata": {},
   "outputs": [],
   "source": [
    "# ----------------------------------------\n",
    "# Plotting all responses\n",
    "# ----------------------------------------\n",
    "\n"
   ]
  }
 ],
 "metadata": {
  "kernelspec": {
   "display_name": "benchmark",
   "language": "python",
   "name": "python3"
  },
  "language_info": {
   "codemirror_mode": {
    "name": "ipython",
    "version": 3
   },
   "file_extension": ".py",
   "mimetype": "text/x-python",
   "name": "python",
   "nbconvert_exporter": "python",
   "pygments_lexer": "ipython3",
   "version": "3.10.13"
  }
 },
 "nbformat": 4,
 "nbformat_minor": 5
}
