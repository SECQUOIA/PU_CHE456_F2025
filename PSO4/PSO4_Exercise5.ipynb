{
 "cells": [
  {
   "cell_type": "code",
   "execution_count": 1,
   "id": "eee35fe6",
   "metadata": {},
   "outputs": [],
   "source": [
    "\n",
    "import numpy as np\n",
    "import matplotlib.pyplot as plt\n",
    "import control as ct\n"
   ]
  },
  {
   "cell_type": "markdown",
   "id": "598ab267",
   "metadata": {},
   "source": [
    "# Mixing Process Temperature Control Analysis 🌡️🔄📊\n",
    "\n",
    "---\n",
    "\n",
    "## Problem Statement 🧪📈📝\n",
    "\n",
    "Consider the mixing process for temperature control given by a first order transfer function with gain 1 and time constant of 10 min.\n",
    "\n",
    "**a)** Simulate the step response of the process.\n",
    "\n",
    "**b)** If the transfer temperature is measured with a thermocouple with a dynamics described by a first order transfer function and the flow is manipulated via a valve with a dynamics given by a second order transfer function, simulate the actual response of the real physical system consisting of the process + sensor + valve:\n",
    "\n",
    "- Sensor (thermocouple): $ G_s(s) = \\frac{1}{3s + 1} $\n",
    "- Valve: $ G_v(s) = \\frac{1}{4s^2 + 0.1s + 1} $\n",
    "\n",
    "**c)** Define two scenarios to get better results.\n",
    "\n",
    "## 🔑 Key Functions\n",
    "- `control.series()`: control.series(G1, G2, ...): Combines multiple transfer functions in series (i.e., cascaded systems where the output of one is the input of the next). For example, control.series(Gvalve, Gprocess, Gsensor) returns the overall transfer function of the full physical system: valve → process → sensor.\n",
    "---"
   ]
  },
  {
   "cell_type": "markdown",
   "id": "3bad9cb0",
   "metadata": {},
   "source": [
    "## Simulation"
   ]
  },
  {
   "cell_type": "markdown",
   "id": "aa09234f",
   "metadata": {},
   "source": [
    "## Define the systems \n",
    "Write the code below the comments"
   ]
  },
  {
   "cell_type": "code",
   "execution_count": null,
   "id": "905471a0",
   "metadata": {},
   "outputs": [],
   "source": [
    "# Time vector (From 0 to 100 minutes with 1000 points in between)\n",
    "\n",
    "# ------------------------\n",
    "# Ideal system: Process only\n",
    "# ------------------------\n",
    "# Create transfer function and observe the step response of the system\n",
    "\n",
    "\n",
    "# ------------------------\n",
    "# Original Real system: Valve + Process + Sensor\n",
    "# Sensor: τ = 3 min, Valve: ζ = 0.025 (underdamped)\n",
    "# ------------------------\n",
    "# Create transfer functions for both thermocouple and valve \n",
    "                         # Thermocouple\n",
    "                         # Valve\n",
    "\n",
    "# Combine the tranfer functions in series and observe the step response of the system\n",
    "\n",
    "\n",
    "# ------------------------\n",
    "# Case 1: Faster sensor (τ = 0.5 min)\n",
    "# ------------------------\n",
    "# Create transfer functions for both thermocouple with the modified parameter\n",
    "                         # Thermocouple\n",
    "\n",
    "# Combine the tranfer functions in series and observe the step response of the system\n",
    "\n",
    "# ------------------------\n",
    "# Case 2: Critically damped valve (ζ = 1)\n",
    "# Gv = 1 / (4s² + 4s + 1)\n",
    "# ------------------------\n",
    "# Create transfer functions for valve with the modified parameter\n",
    "                         # Valve\n",
    "\n",
    "# Combine the tranfer functions (modified valve with original thermocouple) in series and observe the step response of the system\n"
   ]
  },
  {
   "cell_type": "markdown",
   "id": "67762687",
   "metadata": {},
   "source": [
    "## Plot the responses"
   ]
  },
  {
   "cell_type": "code",
   "execution_count": 2,
   "id": "39b2d057",
   "metadata": {},
   "outputs": [],
   "source": [
    "\n",
    "# ------------------------\n",
    "# Plot all responses\n",
    "# ------------------------\n",
    "\n"
   ]
  },
  {
   "cell_type": "markdown",
   "id": "00d084da",
   "metadata": {},
   "source": [
    "---\n",
    "## Conclusions 📌📊🧠\n",
    "\n",
    "- The **ideal process** reaches the setpoint smoothly, as expected from a first-order system.\n",
    "- The **real system with the original sensor and valve** shows a slower response and slight oscillations due to the underdamped valve dynamics.\n",
    "- Using a **faster thermocouple** improves the overall response speed significantly.\n",
    "- A **critically damped valve** eliminates oscillations, resulting in a smoother response.\n",
    "\n",
    "These adjustments demonstrate how **instrumentation design affects the control system behavior**. \n",
    "\n",
    "---\n",
    "\n"
   ]
  }
 ],
 "metadata": {
  "kernelspec": {
   "display_name": "benchmark",
   "language": "python",
   "name": "python3"
  },
  "language_info": {
   "codemirror_mode": {
    "name": "ipython",
    "version": 3
   },
   "file_extension": ".py",
   "mimetype": "text/x-python",
   "name": "python",
   "nbconvert_exporter": "python",
   "pygments_lexer": "ipython3",
   "version": "3.10.13"
  }
 },
 "nbformat": 4,
 "nbformat_minor": 5
}
