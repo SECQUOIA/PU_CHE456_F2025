{
 "cells": [
  {
   "cell_type": "code",
   "execution_count": 1,
   "id": "ff80fbe9",
   "metadata": {},
   "outputs": [],
   "source": [
    "import numpy as np\n",
    "import matplotlib.pyplot as plt\n",
    "import control as ct"
   ]
  },
  {
   "cell_type": "markdown",
   "id": "8f5a4b03",
   "metadata": {},
   "source": [
    "# Excercise 4: Identification of second order system based on dynamic response. 🌡️📊🔧\n",
    "\n",
    "---\n",
    "\n",
    "## Problem Statement: 🧪📈📝\n",
    "\n",
    "A stirred tank reactor with a temperature control system is designed so that the system exhibits a typical underdamped second order temperature characteristics when it is disturbed.\n",
    "\n",
    "The feed flow rate q to the reactor (input to the system) changes suddenly from 0.4 to 0.5 kg/s, and the temperature of the reactor content (T), initially at 100 ̊C, changes eventually to 102 ̊C. What is the gain of the transfer function that relates changes in the reactor temperature to changes in the feed flow rate (be sure to specify the units, as gains generally do have physical units).\n",
    "\n",
    "The operator notes that the resulting response is slightly oscillatory with maxima estimated to be 102.5 and 102.1 ̊C, occurring at times 1000 and 3060 after the change is initiated.\n",
    "\n",
    "- Calculate the **system gain** (with units).\n",
    "- Determine the **complete transfer function of the process**.\n",
    "\n",
    "---\n"
   ]
  },
  {
   "cell_type": "markdown",
   "id": "9e3719c8",
   "metadata": {},
   "source": [
    "## Determine the steady-state gain (K) 📐💡📏\n",
    "\n",
    "Given:\n",
    "\n",
    "Input change: from 0.4 to 0.5 kg/s → $ \\Delta​ Q = 0.1 , \\text {kg/s}$\n",
    "\n",
    "Output change: from 100°C to 102°C → $\\Delta​ T = 2 , \\text{°C}$\n",
    "Then the gain is:\n",
    "\n",
    "$\n",
    "K = \\frac{\\Delta T}{\\Delta Q} = \\frac{2\\ ^\\circ C}{0.1\\ \\text{kg/s}} \n",
    "$  \n",
    "\n",
    "$\n",
    "\\boxed{K=20\\ \\left[ \\frac{^\\circ C \\cdot s}{kg} \\right]}\n",
    "$\n",
    "\n",
    "🌡️📈✅\n",
    "\n",
    "---"
   ]
  },
  {
   "cell_type": "markdown",
   "id": "583a13bf",
   "metadata": {},
   "source": [
    "\n",
    "## General form of the underdamped second-order transfer function 📚🔢⚙️\n",
    "\n",
    "$\n",
    "G(s) = \\frac{T(s)}{Q(s)} = \\frac{K}{\\tau^2 s^2 + 2 \\zeta \\tau s + 1}\n",
    "$\n",
    "\n",
    "---"
   ]
  },
  {
   "cell_type": "markdown",
   "id": "457555b4",
   "metadata": {},
   "source": [
    "##  Determine the damping ratio $ \\zeta $ 🔍🔄📉\n",
    "\n",
    "Overshoot is estimated as:\n",
    "\n",
    "$\n",
    "OS = \\frac{T_{peak1} - T_{final}}{T_{final} - T_{initial}} = \\frac{102.5 - 102}{102 - 100} = \\frac{0.5}{2} \n",
    "$\n",
    "\n",
    "$\n",
    "\\boxed{OS = 0.25}\n",
    "$\n",
    "\n",
    "The relationship between overshoot and damping ratio is:\n",
    "\n",
    "$\n",
    "OS = e^{-\\frac{\\pi \\zeta}{\\sqrt{1 - \\zeta^2}}} \\quad \\Rightarrow \\boxed{ \\quad \\zeta \\approx 0.403}\n",
    "$\n",
    "\n",
    "📐📊🧮\n",
    "\n",
    "---\n"
   ]
  },
  {
   "cell_type": "markdown",
   "id": "917c342e",
   "metadata": {},
   "source": [
    "## Determine the time constant $ \\tau $ ⏱️📏🔬\n",
    "\n",
    "From the oscillation period:\n",
    "\n",
    "- Peak 1 occurs at t = 1000 s  \n",
    "- Peak 2 occurs at t = 3060 s  \n",
    "\n",
    "The period is:\n",
    "\n",
    "$\n",
    "T = 3060 - 2060 = 2000\\ s\n",
    "$\n",
    "\n",
    "The relationship with $ \\tau $ is:\n",
    "\n",
    "$\n",
    "T = \\frac{2\\pi \\tau}{\\sqrt{1 - \\zeta^2}} \\Rightarrow \\tau = \\frac{T \\cdot \\sqrt{1 - \\zeta^2}}{2\\pi} \n",
    "$\n",
    "\n",
    "$\n",
    "\\boxed{\\tau \\approx 299.95\\ s}\n",
    "$\n",
    "\n",
    "🔄📈📐\n",
    "\n",
    "---"
   ]
  },
  {
   "cell_type": "markdown",
   "id": "249a7d7f",
   "metadata": {},
   "source": [
    "\n",
    "## Build the final transfer function ⚙️🧾📉\n",
    "\n",
    "$\n",
    "G(s) = \\frac{20}{(299.95)^2 s^2 + 2 (0.403)(299.95) s + 1}\n",
    "$\n",
    "\n",
    "$\n",
    "G(s) = \\frac{20}{90034 s^2 + 241.8 s + 1}\n",
    "$\n",
    "\n",
    "\n",
    "The transfer function of the system is:\n",
    "\n",
    "$\n",
    "\\boxed{G(s) = \\frac{20}{90034 s^2 + 241.8 s + 1}}\n",
    "$\n",
    "\n",
    "and the static gain is:\n",
    "\n",
    "$\n",
    "\\boxed{K = 20\\ \\left[ \\frac{^\\circ C \\cdot s}{kg} \\right]}\n",
    "$\n",
    "\n",
    "---"
   ]
  },
  {
   "cell_type": "markdown",
   "id": "d73cce05",
   "metadata": {},
   "source": [
    "# Simulate the system response \n",
    "Write the code below the comments"
   ]
  },
  {
   "cell_type": "code",
   "execution_count": null,
   "id": "a589ac67",
   "metadata": {},
   "outputs": [],
   "source": [
    "\n",
    "# System parameters\n",
    "K =                        # Gain [°C·s/kg]\n",
    "zeta =                  # Damping ratio\n",
    "tau =                  # Time constant [s]\n",
    "\n",
    "# Coefficients of the denominator of transfer function\n",
    "a2 = \n",
    "a1 = \n",
    "a0 = \n",
    "\n",
    "# Create Transfer function: G(s) = K / (tau^2 s^2 + 2 zeta tau s + 1)\n",
    "\n",
    "\n",
    "# Time vector (From 0s to 10000s with 1000 points in between)\n",
    "\n",
    "# Input: 0.1 step (Heaviside function scaled by 0.1)\n",
    "\n",
    "# Simulate system response\n",
    "\n",
    "# Plotting"
   ]
  }
 ],
 "metadata": {
  "kernelspec": {
   "display_name": "benchmark",
   "language": "python",
   "name": "python3"
  },
  "language_info": {
   "codemirror_mode": {
    "name": "ipython",
    "version": 3
   },
   "file_extension": ".py",
   "mimetype": "text/x-python",
   "name": "python",
   "nbconvert_exporter": "python",
   "pygments_lexer": "ipython3",
   "version": "3.10.13"
  }
 },
 "nbformat": 4,
 "nbformat_minor": 5
}
