{
 "cells": [
  {
   "cell_type": "code",
   "execution_count": 1,
   "id": "02ce0121",
   "metadata": {},
   "outputs": [],
   "source": [
    "\n",
    "import numpy as np\n",
    "import matplotlib.pyplot as plt\n",
    "import control as ct"
   ]
  },
  {
   "cell_type": "markdown",
   "id": "7956ed2d",
   "metadata": {},
   "source": [
    "# 🧪 Exercise 8 — Parallel Processes\n",
    "\n",
    "## 📝 Problem Statement\n",
    "\n",
    "This exercise focuses on the analysis of an additive process composed of multiple parallel transfer functions. The system under consideration is described by the following parallel configuration:\n",
    "\n",
    "- $G_1(s) = \\dfrac{1}{s}$\n",
    "- $G_2(s) = \\dfrac{2}{2s + 1}$\n",
    "- $G_3(s) = \\dfrac{-2}{s + 1}$\n",
    "\n",
    "The input signal is distributed equally to all three subsystems, and their outputs are summed to generate the overall system output $Y(s)$. The goal is to:\n",
    "\n",
    "1. 🧮 Derive the analytical expression for $Y(s)$ given a unit impulse input $U(s) = 1$.\n",
    "2. 🖥️ Simulate the response of the system using Python (with the `control` library), modeling the impulse input as a 1-second duration pulse constructed with Heaviside functions.\n",
    "\n",
    "\n"
   ]
  },
  {
   "cell_type": "markdown",
   "id": "b2e5adde",
   "metadata": {},
   "source": [
    "### Define the system"
   ]
  },
  {
   "cell_type": "code",
   "execution_count": null,
   "id": "6ace7c5c",
   "metadata": {},
   "outputs": [],
   "source": [
    "                                # 1/s\n",
    "                                # 2/(2s+1)\n",
    "                                # -2/(s+1)\n",
    "# Parallel sum of the systems (Hint: G_total = G1 + G2 + G3 for parallel configurations)"
   ]
  },
  {
   "cell_type": "markdown",
   "id": "7eeead28",
   "metadata": {},
   "source": [
    "### Define system parameters and input "
   ]
  },
  {
   "cell_type": "code",
   "execution_count": null,
   "id": "164bcb09",
   "metadata": {},
   "outputs": [],
   "source": [
    "# Create the time vector (0s to 20s with 1000 points in between)\n",
    "\n",
    "# Create a unit impulse input of 1s duration using Heaviside functions\n"
   ]
  },
  {
   "cell_type": "markdown",
   "id": "fa8e9d4b",
   "metadata": {},
   "source": [
    "### Simulate system response"
   ]
  },
  {
   "cell_type": "code",
   "execution_count": null,
   "id": "3a867195",
   "metadata": {},
   "outputs": [],
   "source": [
    "# Simulate the system response using forced_response\n"
   ]
  },
  {
   "cell_type": "markdown",
   "id": "78fcfb0e",
   "metadata": {},
   "source": [
    "### Plot the results"
   ]
  },
  {
   "cell_type": "code",
   "execution_count": null,
   "id": "83a8600c",
   "metadata": {},
   "outputs": [],
   "source": []
  },
  {
   "cell_type": "markdown",
   "id": "e1dae2a5",
   "metadata": {},
   "source": [
    "### Derivation of $Y(s)$ for Impulse Input — Process Explanation\n",
    "\n",
    "---\n",
    "\n",
    "#### Expression of the system\n",
    "\n",
    "Given the transfer functions:\n",
    "\n",
    "$$\n",
    "G_1(s) = \\frac{1}{s}, \\quad G_2(s) = \\frac{2}{2s + 1}, \\quad G_3(s) = \\frac{-2}{s + 1}\n",
    "$$\n",
    "\n",
    "The output in the Laplace domain is:\n",
    "\n",
    "$$\n",
    "Y(s) = G_1(s)U(s) + G_2(s)U(s) + G_3(s)U(s)\n",
    "$$\n",
    "\n",
    "Factoring out the input $U(s)$:\n",
    "\n",
    "$$\n",
    "Y(s) = \\left[ \\frac{1}{s} + \\frac{2}{2s + 1} - \\frac{2}{s + 1} \\right] U(s)\n",
    "$$\n",
    "\n",
    "---\n",
    "\n",
    "#### Impulse input\n",
    "\n",
    "For an impulse input, we use $U(s) = 1$, which gives:\n",
    "\n",
    "$$\n",
    "Y(s) = \\frac{1}{s} + \\frac{2}{2s + 1} - \\frac{2}{s + 1}\n",
    "$$\n",
    "\n",
    "---\n",
    "\n",
    "#### Combination under common denominator\n",
    "\n",
    "To combine the terms into a single rational function, we find a common denominator:\n",
    "\n",
    "$$\n",
    "s(2s + 1)(s + 1)\n",
    "$$\n",
    "\n",
    "Combining the terms, we obtain:\n",
    "\n",
    "$$\n",
    "Y(s) = \\frac{3s + 1}{s(2s + 1)(s + 1)}\n",
    "$$\n",
    "\n",
    "---\n",
    "\n",
    "#### Factorization and rearrangement\n",
    "\n",
    "Rewriting this expression:\n",
    "\n",
    "$$\n",
    "Y(s) = \\left( \\frac{3s + 1}{2s^2 + 3s + 1} \\right) \\cdot \\frac{1}{s}\n",
    "$$\n",
    "\n",
    "This represents the response of a second-order system with the following transfer function:\n",
    "\n",
    "$$\n",
    "\\boxed{H(s) = \\frac{3s + 1}{2s^2 + 3s + 1}}\n",
    "$$\n",
    "\n",
    "to a unit step input (since $\\frac{1}{s}$ is the Laplace transform of a unit step).\n",
    "\n",
    "---\n",
    "\n",
    "#### System interpretation\n",
    "\n",
    "This is an overdamped second-order system with damping ratio $\\zeta = 1.06$.\n",
    "\n",
    "Given time constants:\n",
    "\n",
    "- $\\tau_a = 3$\n",
    "- $\\tau_1 = 2$\n",
    "\n",
    "Since $\\tau_a > \\tau_1$, the response exhibits an overshoot.\n",
    "\n",
    "---\n"
   ]
  }
 ],
 "metadata": {
  "kernelspec": {
   "display_name": "benchmark",
   "language": "python",
   "name": "python3"
  },
  "language_info": {
   "codemirror_mode": {
    "name": "ipython",
    "version": 3
   },
   "file_extension": ".py",
   "mimetype": "text/x-python",
   "name": "python",
   "nbconvert_exporter": "python",
   "pygments_lexer": "ipython3",
   "version": "3.10.13"
  }
 },
 "nbformat": 4,
 "nbformat_minor": 5
}
