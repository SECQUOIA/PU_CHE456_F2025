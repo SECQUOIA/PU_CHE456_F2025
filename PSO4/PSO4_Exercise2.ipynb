{
 "cells": [
  {
   "cell_type": "code",
   "execution_count": 1,
   "id": "308e1262",
   "metadata": {},
   "outputs": [],
   "source": [
    "import numpy as np\n",
    "import matplotlib.pyplot as plt\n",
    "import control as ct"
   ]
  },
  {
   "cell_type": "markdown",
   "id": "ef13c9d7",
   "metadata": {},
   "source": [
    "# Exercise 2: Typical open-loop dynamic responses of second order systems\n",
    "\n",
    "## 🎯 Objective\n",
    "Understand and compare the behavior of second-order systems under step input for various damping conditions (overdamped, critically damped, and underdamped).\n",
    "\n",
    "## 💻 Code Purpose\n",
    "This script simulates and visualizes the step response of three second-order systems with different damping ratios. It helps identify how damping affects the transient response characteristics like overshoot, settling time, and rise time.\n",
    "\n",
    "## 🔑 Key Functions\n",
    "- `control.tf()`: Creates a transfer function model of the system.\n",
    "- `control.step_response()`: Computes the time-domain unitary step response of a system at time 0.\n"
   ]
  },
  {
   "cell_type": "markdown",
   "id": "ef38d103",
   "metadata": {},
   "source": [
    "# Define a time vector "
   ]
  },
  {
   "cell_type": "code",
   "execution_count": null,
   "id": "35f35df2",
   "metadata": {},
   "outputs": [],
   "source": [
    "# Define a time vector from 0s to 10s with 100 points in between\n"
   ]
  },
  {
   "cell_type": "markdown",
   "id": "07a06c69",
   "metadata": {},
   "source": [
    "# Define the systems"
   ]
  },
  {
   "cell_type": "code",
   "execution_count": null,
   "id": "d4e877ff",
   "metadata": {},
   "outputs": [],
   "source": [
    "\n",
    "                         # System 1: Overdamped (ζ > 1)\n",
    "                         # System 2: Critically damped (ζ = 1)\n",
    "                         # System 3: Underdamped (ζ < 1)"
   ]
  },
  {
   "cell_type": "markdown",
   "id": "3f376bf7",
   "metadata": {},
   "source": [
    "# Define the step responses"
   ]
  },
  {
   "cell_type": "code",
   "execution_count": null,
   "id": "38ba5ae2",
   "metadata": {},
   "outputs": [],
   "source": [
    "# Use ct.step_response() to define a step response to the systems\n"
   ]
  },
  {
   "cell_type": "markdown",
   "id": "2e523a16",
   "metadata": {},
   "source": [
    "# Plot the step responses"
   ]
  },
  {
   "cell_type": "code",
   "execution_count": null,
   "id": "046fab6f",
   "metadata": {},
   "outputs": [],
   "source": [
    "# Plot the step responses for each system in a single plots"
   ]
  }
 ],
 "metadata": {
  "kernelspec": {
   "display_name": "benchmark",
   "language": "python",
   "name": "python3"
  },
  "language_info": {
   "codemirror_mode": {
    "name": "ipython",
    "version": 3
   },
   "file_extension": ".py",
   "mimetype": "text/x-python",
   "name": "python",
   "nbconvert_exporter": "python",
   "pygments_lexer": "ipython3",
   "version": "3.10.13"
  }
 },
 "nbformat": 4,
 "nbformat_minor": 5
}
